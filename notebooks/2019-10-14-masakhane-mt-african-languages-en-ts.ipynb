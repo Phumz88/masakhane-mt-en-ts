{
 "cells": [
  {
   "cell_type": "markdown",
   "metadata": {
    "colab_type": "text",
    "id": "Igc5itf-xMGj"
   },
   "source": [
    "# Masakhane - Machine Translation for African Languages (Using JoeyNMT)"
   ]
  },
  {
   "cell_type": "markdown",
   "metadata": {
    "colab_type": "text",
    "id": "x4fXCKCf36IK"
   },
   "source": [
    "## Note before beginning:\n",
    "### - The idea is that you should be able to make minimal changes to this in order to get SOME result for your own translation corpus. \n",
    "\n",
    "### - The tl;dr: Go to the **\"TODO\"** comments which will tell you what to update to get up and running\n",
    "\n",
    "### - If you actually want to have a clue what you're doing, read the text and peek at the links\n",
    "\n",
    "### - With 100 epochs, it should take around 7 hours to run in Google Colab\n",
    "\n",
    "### - Once you've gotten a result for your language, please attach and email your notebook that generated it to masakhanetranslation@gmail.com\n",
    "\n",
    "### - If you care enough and get a chance, doing a brief background on your language would be amazing. See examples in  [(Martinus, 2019)](https://arxiv.org/abs/1906.05685)"
   ]
  },
  {
   "cell_type": "markdown",
   "metadata": {
    "colab_type": "text",
    "id": "l929HimrxS0a"
   },
   "source": [
    "## Retrieve your data & make a parallel corpus\n",
    "\n",
    "If you are wanting to use the JW300 data referenced on the Masakhane website or in our GitHub repo, you can use `opus-tools` to convert the data into a convenient format. `opus_read` from that package provides a convenient tool for reading the native aligned XML files and to convert them to TMX format. The tool can also be used to fetch relevant files from OPUS on the fly and to filter the data as necessary. [Read the documentation](https://pypi.org/project/opustools-pkg/) for more details.\n",
    "\n",
    "Once you have your corpus files in TMX format (an xml structure which will include the sentences in your target language and your source language in a single file), we recommend reading them into a pandas dataframe. Thankfully, Jade wrote a silly `tmx2dataframe` package which converts your tmx file to a pandas dataframe. "
   ]
  },
  {
   "cell_type": "code",
   "execution_count": 2,
   "metadata": {
    "colab": {
     "base_uri": "https://localhost:8080/",
     "height": 54
    },
    "colab_type": "code",
    "id": "oGRmDELn7Az0",
    "outputId": "fbb18cfb-5fa2-43b9-a9e2-bdb271e3911a"
   },
   "outputs": [],
   "source": [
    "# from google.colab import drive\n",
    "# drive.mount('/content/drive')"
   ]
  },
  {
   "cell_type": "code",
   "execution_count": null,
   "metadata": {
    "colab": {},
    "colab_type": "code",
    "id": "Cn3tgQLzUxwn"
   },
   "outputs": [],
   "source": [
    "# TODO: Set your source and target languages. Keep in mind, these traditionally use language codes as found here:\n",
    "# These will also become the suffix's of all vocab and corpus files used throughout\n",
    "import os\n",
    "source_language = \"en\"\n",
    "target_language = \"ts\"\n",
    "tag = \"baseline\" # Give a unique name to your folder - this is to ensure you don't rewrite any models you've already submitted\n",
    "\n",
    "os.environ[\"src\"] = source_language # Sets them in bash as well, since we often use bash scripts\n",
    "os.environ[\"tgt\"] = target_language\n",
    "os.environ[\"tag\"] = tag\n",
    "\n",
    "# # This will save it to a folder in our gdrive instead!\n",
    "# !mkdir -p \"/content/drive/My Drive/masakhane/$src-$tgt-$tag\"\n",
    "# os.environ[\"gdrive_path\"] = \"/content/drive/My Drive/masakhane/%s-%s-%s\" % (source_language, target_language, tag)"
   ]
  },
  {
   "cell_type": "code",
   "execution_count": 4,
   "metadata": {
    "colab": {
     "base_uri": "https://localhost:8080/",
     "height": 34
    },
    "colab_type": "code",
    "id": "kBSgJHEw7Nvx",
    "outputId": "61f1910e-6f57-47f3-81a7-05923582d7f1"
   },
   "outputs": [],
   "source": [
    "# !echo $gdrive_path"
   ]
  },
  {
   "cell_type": "code",
   "execution_count": 5,
   "metadata": {
    "colab": {
     "base_uri": "https://localhost:8080/",
     "height": 106
    },
    "colab_type": "code",
    "id": "gA75Fs9ys8Y9",
    "outputId": "6acc02e3-9bca-42a9-dca9-df8b89654797"
   },
   "outputs": [
    {
     "name": "stdout",
     "output_type": "stream",
     "text": [
      "Requirement already satisfied: opustools-pkg in /Users/vima/anaconda3/lib/python3.6/site-packages (0.0.49)\n"
     ]
    }
   ],
   "source": [
    "# Install opus-tools\n",
    "! pip install opustools-pkg"
   ]
  },
  {
   "cell_type": "code",
   "execution_count": 4,
   "metadata": {},
   "outputs": [
    {
     "name": "stdout",
     "output_type": "stream",
     "text": [
      "/Users/vima/Dev/UP/masakhane-mt-en-ts/data/new_opus\n"
     ]
    }
   ],
   "source": [
    "cd data/new_opus/"
   ]
  },
  {
   "cell_type": "code",
   "execution_count": 8,
   "metadata": {
    "colab": {
     "base_uri": "https://localhost:8080/",
     "height": 245
    },
    "colab_type": "code",
    "id": "xq-tDZVks7ZD",
    "outputId": "c8659b56-435e-4824-80bb-0b265fbd228c"
   },
   "outputs": [],
   "source": [
    "# Downloading our corpus\n",
    "! opus_read -d JW300 -s en -t ts -wm moses -w jw300.en jw300.ts -q\n",
    "\n",
    "# # extract the corpus file\n",
    "! gunzip JW300_latest_xml_en-ts.xml.gz"
   ]
  },
  {
   "cell_type": "code",
   "execution_count": 9,
   "metadata": {
    "colab": {
     "base_uri": "https://localhost:8080/",
     "height": 143
    },
    "colab_type": "code",
    "id": "3CNdwLBCfSIl",
    "outputId": "13f4ba76-7162-4987-ca5a-84676db4d286"
   },
   "outputs": [
    {
     "data": {
      "text/html": [
       "<div>\n",
       "<style scoped>\n",
       "    .dataframe tbody tr th:only-of-type {\n",
       "        vertical-align: middle;\n",
       "    }\n",
       "\n",
       "    .dataframe tbody tr th {\n",
       "        vertical-align: top;\n",
       "    }\n",
       "\n",
       "    .dataframe thead th {\n",
       "        text-align: right;\n",
       "    }\n",
       "</style>\n",
       "<table border=\"1\" class=\"dataframe\">\n",
       "  <thead>\n",
       "    <tr style=\"text-align: right;\">\n",
       "      <th></th>\n",
       "      <th>source_sentence</th>\n",
       "      <th>target_sentence</th>\n",
       "    </tr>\n",
       "  </thead>\n",
       "  <tbody>\n",
       "    <tr>\n",
       "      <th>0</th>\n",
       "      <td>Dowsing ​ — Scientific or Occult ?\\n</td>\n",
       "      <td>Ku Femba — I Sayense Kumbe I Vungoma ?\\n</td>\n",
       "    </tr>\n",
       "    <tr>\n",
       "      <th>1</th>\n",
       "      <td>“ AMAZING ! ”\\n</td>\n",
       "      <td>“ WA hlamarisa ! ”\\n</td>\n",
       "    </tr>\n",
       "    <tr>\n",
       "      <th>2</th>\n",
       "      <td>exclaimed a dairy farmer in the Midwestern Uni...</td>\n",
       "      <td>ku huwelela n’wamapursi wa vufuwela - masi le ...</td>\n",
       "    </tr>\n",
       "  </tbody>\n",
       "</table>\n",
       "</div>"
      ],
      "text/plain": [
       "                                     source_sentence  \\\n",
       "0               Dowsing ​ — Scientific or Occult ?\\n   \n",
       "1                                    “ AMAZING ! ”\\n   \n",
       "2  exclaimed a dairy farmer in the Midwestern Uni...   \n",
       "\n",
       "                                     target_sentence  \n",
       "0           Ku Femba — I Sayense Kumbe I Vungoma ?\\n  \n",
       "1                               “ WA hlamarisa ! ”\\n  \n",
       "2  ku huwelela n’wamapursi wa vufuwela - masi le ...  "
      ]
     },
     "execution_count": 9,
     "metadata": {},
     "output_type": "execute_result"
    }
   ],
   "source": [
    "import pandas as pd\n",
    "\n",
    "# TMX file to dataframe\n",
    "source_file = 'jw300.' + source_language\n",
    "target_file = 'jw300.' + target_language\n",
    "\n",
    "source = []\n",
    "target = []\n",
    "with open(source_file) as f:\n",
    "  for _, line in enumerate(f):\n",
    "    source.append(line)\n",
    "with open(target_file) as f:\n",
    "  for _, line in enumerate(f):\n",
    "    target.append(line)\n",
    "\n",
    "df = pd.DataFrame(zip(source, target), columns=['source_sentence', 'target_sentence'])\n",
    "df.head(3)"
   ]
  },
  {
   "cell_type": "markdown",
   "metadata": {
    "colab_type": "text",
    "id": "YkuK3B4p2AkN"
   },
   "source": [
    "## Pre-processing and export\n",
    "\n",
    "It is generally a good idea to remove duplicate translations and conflicting translations from the corpus. In practice, these public corpora include some number of these that need to be cleaned.\n",
    "\n",
    "In addition we will split our data into dev/test/train and export to the filesystem."
   ]
  },
  {
   "cell_type": "code",
   "execution_count": 10,
   "metadata": {
    "colab": {
     "base_uri": "https://localhost:8080/",
     "height": 211
    },
    "colab_type": "code",
    "id": "M_2ouEOH1_1q",
    "outputId": "0e090b55-e01c-4766-b338-89521531e3b4"
   },
   "outputs": [
    {
     "name": "stderr",
     "output_type": "stream",
     "text": [
      "/Users/vima/anaconda3/lib/python3.6/site-packages/ipykernel_launcher.py:5: SettingWithCopyWarning: \n",
      "A value is trying to be set on a copy of a slice from a DataFrame\n",
      "\n",
      "See the caveats in the documentation: http://pandas.pydata.org/pandas-docs/stable/user_guide/indexing.html#returning-a-view-versus-a-copy\n",
      "  \"\"\"\n",
      "/Users/vima/anaconda3/lib/python3.6/site-packages/ipykernel_launcher.py:6: SettingWithCopyWarning: \n",
      "A value is trying to be set on a copy of a slice from a DataFrame\n",
      "\n",
      "See the caveats in the documentation: http://pandas.pydata.org/pandas-docs/stable/user_guide/indexing.html#returning-a-view-versus-a-copy\n",
      "  \n"
     ]
    }
   ],
   "source": [
    "# drop duplicate translations\n",
    "df_pp = df.drop_duplicates()\n",
    "\n",
    "# drop conflicting translations\n",
    "df_pp.drop_duplicates(subset='source_sentence', inplace=True)\n",
    "df_pp.drop_duplicates(subset='target_sentence', inplace=True)"
   ]
  },
  {
   "cell_type": "code",
   "execution_count": 11,
   "metadata": {
    "colab": {
     "base_uri": "https://localhost:8080/",
     "height": 245
    },
    "colab_type": "code",
    "id": "hxxBOCA-xXhy",
    "outputId": "6e19a80b-3af1-4463-c213-5cb0f9a6c859"
   },
   "outputs": [
    {
     "name": "stderr",
     "output_type": "stream",
     "text": [
      "/Users/vima/anaconda3/lib/python3.6/site-packages/ipykernel_launcher.py:9: SettingWithCopyWarning: \n",
      "A value is trying to be set on a copy of a slice from a DataFrame.\n",
      "Try using .loc[row_indexer,col_indexer] = value instead\n",
      "\n",
      "See the caveats in the documentation: http://pandas.pydata.org/pandas-docs/stable/user_guide/indexing.html#returning-a-view-versus-a-copy\n",
      "  if __name__ == '__main__':\n",
      "/Users/vima/anaconda3/lib/python3.6/site-packages/ipykernel_launcher.py:10: SettingWithCopyWarning: \n",
      "A value is trying to be set on a copy of a slice from a DataFrame.\n",
      "Try using .loc[row_indexer,col_indexer] = value instead\n",
      "\n",
      "See the caveats in the documentation: http://pandas.pydata.org/pandas-docs/stable/user_guide/indexing.html#returning-a-view-versus-a-copy\n",
      "  # Remove the CWD from sys.path while we load stuff.\n"
     ]
    }
   ],
   "source": [
    "# This section does the split between train/test/dev for the parallel corpora then saves them as separate files\n",
    "# We use 1000 dev test and 1000 test set. In practice, it's useful to use an external test set\n",
    "\n",
    "# Do the split between dev/test/train and create parallel corpora\n",
    "num_dev_patterns = 1000\n",
    "num_test_patterns = 1000\n",
    "\n",
    "# Lower case the corpora\n",
    "df_pp[\"source_sentence\"] = df_pp[\"source_sentence\"].str.lower()\n",
    "df_pp[\"target_sentence\"] = df_pp[\"target_sentence\"].str.lower()\n",
    "\n",
    "devtest = df_pp.tail(num_dev_patterns + num_test_patterns)\n",
    "test = devtest.tail(num_test_patterns) # Herman\n",
    "dev = devtest.head(num_dev_patterns)  # Herman: Error in original\n",
    "stripped = df_pp.drop(df_pp.tail(num_dev_patterns + num_test_patterns).index)\n",
    "\n",
    "stripped[[\"source_sentence\"]].to_csv(\"train.\"+source_language, index=False, header=False)  # Herman: Added `header=False` everywhere\n",
    "stripped[[\"target_sentence\"]].to_csv(\"train.\"+target_language, index=False, header=False)\n",
    "\n",
    "dev[[\"source_sentence\"]].to_csv(\"dev.\"+source_language, index=False, header=False)\n",
    "dev[[\"target_sentence\"]].to_csv(\"dev.\", index=False, header=False)\n",
    "\n",
    "test[[\"source_sentence\"]].to_csv(\"test.\"+source_language, index=False, header=False)\n",
    "test[[\"target_sentence\"]].to_csv(\"test.\"+target_language, index=False, header=False)"
   ]
  },
  {
   "cell_type": "markdown",
   "metadata": {
    "colab_type": "text",
    "id": "epeCydmCyS8X"
   },
   "source": [
    "\n",
    "\n",
    "---\n",
    "\n",
    "\n",
    "## Installation of JoeyNMT\n",
    "\n",
    "JoeyNMT is a simple, minimalist NMT package which is useful for learning and teaching. Check out the documentation for JoeyNMT [here](https://joeynmt.readthedocs.io)  "
   ]
  },
  {
   "cell_type": "code",
   "execution_count": null,
   "metadata": {
    "colab": {
     "base_uri": "https://localhost:8080/",
     "height": 1000
    },
    "colab_type": "code",
    "id": "iBRMm4kMxZ8L",
    "outputId": "2d46bf2a-19e8-4369-a221-c22c8dcc8adc"
   },
   "outputs": [
    {
     "name": "stdout",
     "output_type": "stream",
     "text": [
      "Cloning into 'joeynmt'...\n",
      "remote: Enumerating objects: 52, done.\u001b[K\n",
      "remote: Counting objects: 100% (52/52), done.\u001b[K\n",
      "remote: Compressing objects: 100% (40/40), done.\u001b[K\n",
      "remote: Total 2058 (delta 29), reused 24 (delta 12), pack-reused 2006\u001b[K\n",
      "\u001b[KReceiving objects: 100% (2058/2058), 2.40 MiB | 295.00 KiB/s, done.\n",
      "\u001b[KResolving deltas: 100% (1418/1418), done.\n",
      "Processing /Users/vima/Dev/UP/masakhane-mt-en-ts/data/new_opus/joeynmt\n",
      "Collecting future (from joeynmt==0.0.1)\n",
      "\u001b[?25l  Downloading https://files.pythonhosted.org/packages/f6/85/c273089eb6efa5644c0a1382ea553554bc0d40e00a46d989ec67f123f8b5/future-0.18.0.tar.gz (830kB)\n",
      "\u001b[K     |████████████████████████████████| 839kB 180kB/s eta 0:00:01\n",
      "\u001b[?25hCollecting pillow (from joeynmt==0.0.1)\n",
      "\u001b[?25l  Downloading https://files.pythonhosted.org/packages/a4/92/801710e21ede5f583c6bde61b25baa46ed16d9d77d74935e11b9a801cdd7/Pillow-6.2.0-cp37-cp37m-macosx_10_6_intel.macosx_10_9_intel.macosx_10_9_x86_64.macosx_10_10_intel.macosx_10_10_x86_64.whl (3.9MB)\n",
      "\u001b[K     |████████████████████████████████| 3.9MB 345kB/s eta 0:00:01\n",
      "\u001b[?25hCollecting numpy<2.0,>=1.14.5 (from joeynmt==0.0.1)\n",
      "\u001b[?25l  Downloading https://files.pythonhosted.org/packages/b4/e8/5ececadd9cc220bb783b4ce6ffaa9266925d37ed41237bc23bc530ab4f3d/numpy-1.17.2-cp37-cp37m-macosx_10_6_intel.whl (15.0MB)\n",
      "\u001b[K     |████████████████████████████████| 15.0MB 1.3MB/s eta 0:00:01    |███████████▎                    | 5.3MB 3.3MB/s eta 0:00:03\n",
      "\u001b[?25hRequirement already satisfied: setuptools>=41.0.0 in /usr/local/lib/python3.7/site-packages (from joeynmt==0.0.1) (41.0.1)\n",
      "Collecting torch>=1.1 (from joeynmt==0.0.1)\n",
      "\u001b[?25l  Downloading https://files.pythonhosted.org/packages/0f/27/36b5f7acd661b2a435c7c9283dd4ddeac9a4c7fc0e328efaddeae2ffaf68/torch-1.3.0-cp37-none-macosx_10_9_x86_64.whl (71.1MB)\n",
      "\u001b[K     |████████████████████████████████| 71.1MB 1.2MB/s eta 0:00:01    |▏                               | 358kB 1.6MB/s eta 0:00:45     |████▌                           | 10.1MB 492kB/s eta 0:02:04     |█████████████████               | 37.7MB 278kB/s eta 0:02:00\n",
      "\u001b[?25hCollecting tensorflow>=1.14 (from joeynmt==0.0.1)\n",
      "\u001b[?25l  Downloading https://files.pythonhosted.org/packages/2c/72/6b3264aa2889b7dde7663464b99587d95cd6a5f3b9b30181f14d78a63e64/tensorflow-2.0.0-cp37-cp37m-macosx_10_11_x86_64.whl (102.7MB)\n",
      "\u001b[K     |████████████████████████████████| 102.7MB 166kB/s eta 0:00:01    |████████████▍                   | 39.9MB 1.1MB/s eta 0:00:59     |██████████████████████████▎     | 84.4MB 282kB/s eta 0:01:05\n",
      "\u001b[?25hCollecting torchtext (from joeynmt==0.0.1)\n",
      "\u001b[?25l  Downloading https://files.pythonhosted.org/packages/43/94/929d6bd236a4fb5c435982a7eb9730b78dcd8659acf328fd2ef9de85f483/torchtext-0.4.0-py3-none-any.whl (53kB)\n",
      "\u001b[K     |████████████████████████████████| 61kB 2.7MB/s eta 0:00:011\n",
      "\u001b[?25hCollecting sacrebleu>=1.3.6 (from joeynmt==0.0.1)\n",
      "  Downloading https://files.pythonhosted.org/packages/0e/e5/93d252182f7cbd4b59bb3ec5797e2ce33cfd6f5aadaf327db170cf4b7887/sacrebleu-1.4.2-py3-none-any.whl\n",
      "Collecting subword-nmt (from joeynmt==0.0.1)\n",
      "  Downloading https://files.pythonhosted.org/packages/26/08/58267cb3ac00f5f895457777ed9e0d106dbb5e6388fa7923d8663b04b849/subword_nmt-0.3.6-py2.py3-none-any.whl\n",
      "Collecting matplotlib (from joeynmt==0.0.1)\n",
      "\u001b[?25l  Downloading https://files.pythonhosted.org/packages/c3/8b/af9e0984f5c0df06d3fab0bf396eb09cbf05f8452de4e9502b182f59c33b/matplotlib-3.1.1-cp37-cp37m-macosx_10_6_intel.macosx_10_9_intel.macosx_10_9_x86_64.macosx_10_10_intel.macosx_10_10_x86_64.whl (14.4MB)\n",
      "\u001b[K     |████████████████████████████████| 14.4MB 727kB/s eta 0:00:01\n",
      "\u001b[?25hCollecting seaborn (from joeynmt==0.0.1)\n",
      "\u001b[?25l  Downloading https://files.pythonhosted.org/packages/a8/76/220ba4420459d9c4c9c9587c6ce607bf56c25b3d3d2de62056efe482dadc/seaborn-0.9.0-py3-none-any.whl (208kB)\n",
      "\u001b[K     |████████████████████████████████| 215kB 1.5MB/s eta 0:00:01\n",
      "\u001b[?25hCollecting pyyaml>=5.1 (from joeynmt==0.0.1)\n",
      "\u001b[?25l  Downloading https://files.pythonhosted.org/packages/e3/e8/b3212641ee2718d556df0f23f78de8303f068fe29cdaa7a91018849582fe/PyYAML-5.1.2.tar.gz (265kB)\n",
      "\u001b[K     |████████████████████████████████| 266kB 1.4MB/s eta 0:00:01\n",
      "\u001b[?25hCollecting pylint (from joeynmt==0.0.1)\n",
      "\u001b[?25l  Downloading https://files.pythonhosted.org/packages/ef/ed/1cb8e7b85a31807aa0bff8b3e60935370bed7e141df8b530aac6352bddff/pylint-2.4.2-py3-none-any.whl (302kB)\n",
      "\u001b[K     |████████████████████████████████| 307kB 1.4MB/s eta 0:00:01\n",
      "\u001b[?25hCollecting six>=1.12 (from joeynmt==0.0.1)\n",
      "  Downloading https://files.pythonhosted.org/packages/73/fb/00a976f728d0d1fecfe898238ce23f502a721c0ac0ecfedb80e0d88c64e9/six-1.12.0-py2.py3-none-any.whl\n",
      "Collecting termcolor>=1.1.0 (from tensorflow>=1.14->joeynmt==0.0.1)\n",
      "  Using cached https://files.pythonhosted.org/packages/8a/48/a76be51647d0eb9f10e2a4511bf3ffb8cc1e6b14e9e4fab46173aa79f981/termcolor-1.1.0.tar.gz\n",
      "Collecting keras-applications>=1.0.8 (from tensorflow>=1.14->joeynmt==0.0.1)\n",
      "\u001b[?25l  Downloading https://files.pythonhosted.org/packages/71/e3/19762fdfc62877ae9102edf6342d71b28fbfd9dea3d2f96a882ce099b03f/Keras_Applications-1.0.8-py3-none-any.whl (50kB)\n",
      "\u001b[K     |████████████████████████████████| 51kB 2.5MB/s eta 0:00:01\n",
      "\u001b[?25hCollecting opt-einsum>=2.3.2 (from tensorflow>=1.14->joeynmt==0.0.1)\n",
      "\u001b[?25l  Downloading https://files.pythonhosted.org/packages/b8/83/755bd5324777875e9dff19c2e59daec837d0378c09196634524a3d7269ac/opt_einsum-3.1.0.tar.gz (69kB)\n",
      "\u001b[K     |████████████████████████████████| 71kB 1.9MB/s eta 0:00:011\n",
      "\u001b[?25hCollecting tensorboard<2.1.0,>=2.0.0 (from tensorflow>=1.14->joeynmt==0.0.1)\n",
      "\u001b[?25l  Downloading https://files.pythonhosted.org/packages/9b/a6/e8ffa4e2ddb216449d34cfcb825ebb38206bee5c4553d69e7bc8bc2c5d64/tensorboard-2.0.0-py3-none-any.whl (3.8MB)\n",
      "\u001b[K     |████████████████████████████████| 3.8MB 260kB/s eta 0:00:01\n",
      "\u001b[?25hCollecting protobuf>=3.6.1 (from tensorflow>=1.14->joeynmt==0.0.1)\n",
      "\u001b[?25l  Downloading https://files.pythonhosted.org/packages/a5/c6/a8b6a74ab1e165f0aaa673a46f5c895af8780976880c98934ae82060356d/protobuf-3.10.0-cp37-cp37m-macosx_10_9_intel.whl (1.4MB)\n",
      "\u001b[K     |████████████████████████████████| 1.4MB 261kB/s eta 0:00:01\n",
      "\u001b[?25hCollecting tensorflow-estimator<2.1.0,>=2.0.0 (from tensorflow>=1.14->joeynmt==0.0.1)\n",
      "\u001b[?25l  Downloading https://files.pythonhosted.org/packages/95/00/5e6cdf86190a70d7382d320b2b04e4ff0f8191a37d90a422a2f8ff0705bb/tensorflow_estimator-2.0.0-py2.py3-none-any.whl (449kB)\n",
      "\u001b[K     |████████████████████████████████| 450kB 311kB/s eta 0:00:01\n",
      "\u001b[?25hCollecting wrapt>=1.11.1 (from tensorflow>=1.14->joeynmt==0.0.1)\n",
      "  Downloading https://files.pythonhosted.org/packages/23/84/323c2415280bc4fc880ac5050dddfb3c8062c2552b34c2e512eb4aa68f79/wrapt-1.11.2.tar.gz\n"
     ]
    }
   ],
   "source": [
    "# Install JoeyNMT\n",
    "! git clone https://github.com/joeynmt/joeynmt.git\n",
    "! cd joeynmt; pip3 install ."
   ]
  },
  {
   "cell_type": "markdown",
   "metadata": {
    "colab_type": "text",
    "id": "AaE77Tcppex9"
   },
   "source": [
    "# Preprocessing the Data into Subword BPE Tokens\n",
    "\n",
    "- One of the most powerful improvements for agglutinative languages (a feature of most Bantu languages) is using BPE tokenization [ (Sennrich, 2015) ](https://arxiv.org/abs/1508.07909).\n",
    "\n",
    "- It was also shown that by optimizing the umber of BPE codes we significantly improve results for low-resourced languages [(Sennrich, 2019)](https://www.aclweb.org/anthology/P19-1021) [(Martinus, 2019)](https://arxiv.org/abs/1906.05685)\n",
    "\n",
    "- Below we have the scripts for doing BPE tokenization of our data. We use 4000 tokens as recommended by [(Sennrich, 2019)](https://www.aclweb.org/anthology/P19-1021). You do not need to change anything. Simply running the below will be suitable. "
   ]
  },
  {
   "cell_type": "code",
   "execution_count": 13,
   "metadata": {
    "colab": {
     "base_uri": "https://localhost:8080/",
     "height": 454
    },
    "colab_type": "code",
    "id": "H-TyjtmXB1mL",
    "outputId": "13ee8ae9-3be4-4816-8053-0ed9bda1f695"
   },
   "outputs": [
    {
     "name": "stdout",
     "output_type": "stream",
     "text": [
      "bpe.codes.4000\tdev.en\t     test.bpe.xh  train.bpe.en\ttrain.xh\n",
      "dev.bpe.en\tdev.xh\t     test.en\t  train.bpe.xh\n",
      "dev.bpe.xh\ttest.bpe.en  test.xh\t  train.en\n",
      "cp: target '/content/drive/My Drive/masakhane/en-xh' is not a directory\n",
      "cp: target '/content/drive/My Drive/masakhane/en-xh' is not a directory\n",
      "cp: target '/content/drive/My Drive/masakhane/en-xh' is not a directory\n",
      "'/content/drive/My Drive/masakhane/en-xh'\n",
      "BPE Xhosa Sentences\n",
      "\"\n",
      "\"kodwa sinoku@@ qinis@@ eka ukuba ub@@ awo wethu os@@ emaz@@ ulwini uy@@ aku@@ x@@ abisa ukun@@ yaniseka kwethu kunye nezinye iimp@@ awu zethu ezint@@ le ngaph@@ ezulu le@@ e kwa@@ wo n@@ awa@@ phi na am@@ at@@ ye ax@@ abis@@ ekileyo !\n",
      "\"\n",
      "\"xa s@@ iny@@ anis@@ ekile , sin@@ okuba nes@@ azela es@@ ic@@ oc@@ ekileyo size sibe n@@ en@@ kululeko yoku@@ thetha ents@@ imini\n",
      "\"\n",
      "Combined BPE Vocab\n",
      ";@@\n",
      "!@@\n",
      "anekiso\n",
      "¥\n",
      "–@@\n",
      "̆\n",
      "betw@@\n",
      "ihland@@\n",
      "?@@\n",
      "ź@@\n"
     ]
    }
   ],
   "source": [
    "# One of the huge boosts in NMT performance was to use a different method of tokenizing. \n",
    "# Usually, NMT would tokenize by words. However, using a method called BPE gave amazing boosts to performance\n",
    "\n",
    "# Do subword NMT\n",
    "from os import path\n",
    "\n",
    "os.environ[\"data_path\"] = path.join(\"joeynmt\", \"data\", source_language + target_language) # Herman! \n",
    "! subword-nmt learn-joint-bpe-and-vocab --input train.$src train.$tgt -s 4000 -o bpe.codes.4000 --write-vocabulary vocab.$src vocab.$tgt\n",
    "\n",
    "! subword-nmt apply-bpe -c bpe.codes.4000 --vocabulary vocab.$src < train.$src > train.bpe.$src\n",
    "! subword-nmt apply-bpe -c bpe.codes.4000 --vocabulary vocab.$tgt < train.$tgt > train.bpe.$tgt\n",
    "\n",
    "! subword-nmt apply-bpe -c bpe.codes.4000 --vocabulary vocab.$src < dev.$src > dev.bpe.$src\n",
    "! subword-nmt apply-bpe -c bpe.codes.4000 --vocabulary vocab.$tgt < dev.$tgt > dev.bpe.$tgt\n",
    "! subword-nmt apply-bpe -c bpe.codes.4000 --vocabulary vocab.$src < test.$src > test.bpe.$src\n",
    "! subword-nmt apply-bpe -c bpe.codes.4000 --vocabulary vocab.$tgt < test.$tgt > test.bpe.$tgt\n",
    "\n",
    "# Create directory, move everyone we care about to the correct location\n",
    "! mkdir -p $data_path\n",
    "! cp train.* $data_path\n",
    "! cp test.* $data_path\n",
    "! cp dev.* $data_path\n",
    "! cp bpe.codes.4000 $data_path\n",
    "! ls $data_path\n",
    "\n",
    "# # Also move everything we care about to a mounted location in google drive (relevant if running in colab) at gdrive_path\n",
    "# ! cp train.* \"$gdrive_path\"\n",
    "# ! cp test.* \"$gdrive_path\"\n",
    "# ! cp dev.* \"$gdrive_path\"\n",
    "# ! cp bpe.codes.4000 \"$gdrive_path\"\n",
    "# ! ls \"$gdrive_path\"\n",
    "\n",
    "# Create that vocab using build_vocab\n",
    "! sudo chmod 777 joeynmt/scripts/build_vocab.py\n",
    "! joeynmt/scripts/build_vocab.py joeynmt/data/$src$tgt/train.bpe.$src joeynmt/data/$src$tgt/train.bpe.$tgt --output_path joeynmt/data/$src$tgt/vocab.txt\n",
    "\n",
    "# Some output\n",
    "! echo \"BPE Xhosa Sentences\"\n",
    "! tail -n 5 test.bpe.$tgt\n",
    "! echo \"Combined BPE Vocab\"\n",
    "! tail -n 10 joeynmt/data/$src$tgt/vocab.txt  # Herman"
   ]
  },
  {
   "cell_type": "code",
   "execution_count": 21,
   "metadata": {
    "colab": {
     "base_uri": "https://localhost:8080/",
     "height": 69
    },
    "colab_type": "code",
    "id": "IlMitUHR8Qy-",
    "outputId": "ada7bd6c-74a3-4535-b23c-f13931a596b5"
   },
   "outputs": [
    {
     "name": "stdout",
     "output_type": "stream",
     "text": [
      "bpe.codes.4000\tdev.en\t     test.bpe.xh  train.bpe.en\ttrain.xh\n",
      "dev.bpe.en\tdev.xh\t     test.en\t  train.bpe.xh\n",
      "dev.bpe.xh\ttest.bpe.en  test.xh\t  train.en\n"
     ]
    }
   ],
   "source": [
    "# Also move everything we care about to a mounted location in google drive (relevant if running in colab) at gdrive_path\n",
    "! cp train.* \"$gdrive_path\"\n",
    "! cp test.* \"$gdrive_path\"\n",
    "! cp dev.* \"$gdrive_path\"\n",
    "! cp bpe.codes.4000 \"$gdrive_path\"\n",
    "! ls \"$gdrive_path\""
   ]
  },
  {
   "cell_type": "markdown",
   "metadata": {
    "colab_type": "text",
    "id": "Ixmzi60WsUZ8"
   },
   "source": [
    "# Creating the JoeyNMT Config\n",
    "\n",
    "JoeyNMT requires a yaml config. We provide a template below. We've also set a number of defaults with it, that you may play with!\n",
    "\n",
    "- We used Transformer architecture \n",
    "- We set our dropout to reasonably high: 0.3 (recommended in  [(Sennrich, 2019)](https://www.aclweb.org/anthology/P19-1021))\n",
    "\n",
    "Things worth playing with:\n",
    "- The batch size (also recommended to change for low-resourced languages)\n",
    "- The number of epochs (we've set it at 30 just so it runs in about an hour, for testing purposes)\n",
    "- The decoder options (beam_size, alpha)\n",
    "- Evaluation metrics (BLEU versus Crhf4)"
   ]
  },
  {
   "cell_type": "code",
   "execution_count": null,
   "metadata": {
    "colab": {},
    "colab_type": "code",
    "id": "PIs1lY2hxMsl"
   },
   "outputs": [],
   "source": [
    "# This creates the config file for our JoeyNMT system. It might seem overwhelming so we've provided a couple of useful parameters you'll need to update\n",
    "# (You can of course play with all the parameters if you'd like!)\n",
    "\n",
    "name = '%s%s' % (source_language, target_language)\n",
    "gdrive_path = os.environ[\"gdrive_path\"]\n",
    "\n",
    "# Create the config\n",
    "config = \"\"\"\n",
    "name: \"{name}_transformer\"\n",
    "\n",
    "data:\n",
    "    src: \"{source_language}\"\n",
    "    trg: \"{target_language}\"\n",
    "    train: \"data/{name}/train.bpe\"\n",
    "    dev:   \"data/{name}/dev.bpe\"\n",
    "    test:  \"data/{name}/test.bpe\"\n",
    "    level: \"bpe\"\n",
    "    lowercase: False\n",
    "    max_sent_length: 100\n",
    "    src_vocab: \"data/{name}/vocab.txt\"\n",
    "    trg_vocab: \"data/{name}/vocab.txt\"\n",
    "\n",
    "testing:\n",
    "    beam_size: 5\n",
    "    alpha: 1.0\n",
    "\n",
    "training:\n",
    "    #load_model: \"{gdrive_path}/models/{name}_transformer/1.ckpt\" # if uncommented, load a pre-trained model from this checkpoint\n",
    "    random_seed: 42\n",
    "    optimizer: \"adam\"\n",
    "    normalization: \"tokens\"\n",
    "    adam_betas: [0.9, 0.999] \n",
    "    scheduling: \"noam\"            # Try switching from plateau to Noam scheduling\n",
    "    learning_rate_factor: 0.5       # factor for Noam scheduler (used with Transformer)\n",
    "    learning_rate_warmup: 1000      # warmup steps for Noam scheduler (used with Transformer)\n",
    "    patience: 8\n",
    "    decrease_factor: 0.7\n",
    "    loss: \"crossentropy\"\n",
    "    learning_rate: 0.0002\n",
    "    learning_rate_min: 0.00000001\n",
    "    weight_decay: 0.0\n",
    "    label_smoothing: 0.1\n",
    "    batch_size: 4096\n",
    "    batch_type: \"token\"\n",
    "    eval_batch_size: 3600\n",
    "    eval_batch_type: \"token\"\n",
    "    batch_multiplier: 1\n",
    "    early_stopping_metric: \"ppl\"\n",
    "    epochs: 30 # TODO: Decrease for when playing around and checking of working. Around 30 is sufficient to check if its working at all\n",
    "    validation_freq: 4000 # Decrease this for testing\n",
    "    logging_freq: 100\n",
    "    eval_metric: \"bleu\"\n",
    "    model_dir: \"models/{name}_transformer\"\n",
    "    overwrite: True\n",
    "    shuffle: True\n",
    "    use_cuda: True\n",
    "    max_output_length: 100\n",
    "    print_valid_sents: [0, 1, 2, 3]\n",
    "    keep_last_ckpts: 3\n",
    "\n",
    "model:\n",
    "    initializer: \"xavier\"\n",
    "    bias_initializer: \"zeros\"\n",
    "    init_gain: 1.0\n",
    "    embed_initializer: \"xavier\"\n",
    "    embed_init_gain: 1.0\n",
    "    tied_embeddings: True\n",
    "    tied_softmax: True\n",
    "    encoder:\n",
    "        type: \"transformer\"\n",
    "        num_layers: 6\n",
    "        num_heads: 8\n",
    "        embeddings:\n",
    "            embedding_dim: 512\n",
    "            scale: True\n",
    "            dropout: 0.\n",
    "        # typically ff_size = 4 x hidden_size\n",
    "        hidden_size: 512\n",
    "        ff_size: 2048\n",
    "        dropout: 0.3\n",
    "    decoder:\n",
    "        type: \"transformer\"\n",
    "        num_layers: 6\n",
    "        num_heads: 8\n",
    "        embeddings:\n",
    "            embedding_dim: 512\n",
    "            scale: True\n",
    "            dropout: 0.\n",
    "        # typically ff_size = 4 x hidden_size\n",
    "        hidden_size: 512\n",
    "        ff_size: 2048\n",
    "        dropout: 0.3\n",
    "\"\"\".format(name=name, gdrive_path=os.environ[\"gdrive_path\"], source_language=source_language, target_language=target_language)\n",
    "with open(\"joeynmt/configs/transformer_{name}.yaml\".format(name=name),'w') as f:\n",
    "    f.write(config)"
   ]
  },
  {
   "cell_type": "markdown",
   "metadata": {
    "colab_type": "text",
    "id": "pIifxE3Qzuvs"
   },
   "source": [
    "# Train the Model\n",
    "\n",
    "This single line of joeynmt runs the training using the config we made above"
   ]
  },
  {
   "cell_type": "code",
   "execution_count": null,
   "metadata": {
    "colab": {
     "base_uri": "https://localhost:8080/",
     "height": 1000
    },
    "colab_type": "code",
    "id": "6ZBPFwT94WpI",
    "outputId": "883fcfbd-cb48-4da9-c626-9606c922eac7"
   },
   "outputs": [
    {
     "name": "stdout",
     "output_type": "stream",
     "text": [
      "2019-10-05 14:10:33,381 Hello! This is Joey-NMT.\n",
      "2019-10-05 14:10:33,387 Total params: 46273024\n",
      "2019-10-05 14:10:33,388 Trainable parameters: ['decoder.layer_norm.bias', 'decoder.layer_norm.weight', 'decoder.layers.0.dec_layer_norm.bias', 'decoder.layers.0.dec_layer_norm.weight', 'decoder.layers.0.feed_forward.layer_norm.bias', 'decoder.layers.0.feed_forward.layer_norm.weight', 'decoder.layers.0.feed_forward.pwff_layer.0.bias', 'decoder.layers.0.feed_forward.pwff_layer.0.weight', 'decoder.layers.0.feed_forward.pwff_layer.3.bias', 'decoder.layers.0.feed_forward.pwff_layer.3.weight', 'decoder.layers.0.src_trg_att.k_layer.bias', 'decoder.layers.0.src_trg_att.k_layer.weight', 'decoder.layers.0.src_trg_att.output_layer.bias', 'decoder.layers.0.src_trg_att.output_layer.weight', 'decoder.layers.0.src_trg_att.q_layer.bias', 'decoder.layers.0.src_trg_att.q_layer.weight', 'decoder.layers.0.src_trg_att.v_layer.bias', 'decoder.layers.0.src_trg_att.v_layer.weight', 'decoder.layers.0.trg_trg_att.k_layer.bias', 'decoder.layers.0.trg_trg_att.k_layer.weight', 'decoder.layers.0.trg_trg_att.output_layer.bias', 'decoder.layers.0.trg_trg_att.output_layer.weight', 'decoder.layers.0.trg_trg_att.q_layer.bias', 'decoder.layers.0.trg_trg_att.q_layer.weight', 'decoder.layers.0.trg_trg_att.v_layer.bias', 'decoder.layers.0.trg_trg_att.v_layer.weight', 'decoder.layers.0.x_layer_norm.bias', 'decoder.layers.0.x_layer_norm.weight', 'decoder.layers.1.dec_layer_norm.bias', 'decoder.layers.1.dec_layer_norm.weight', 'decoder.layers.1.feed_forward.layer_norm.bias', 'decoder.layers.1.feed_forward.layer_norm.weight', 'decoder.layers.1.feed_forward.pwff_layer.0.bias', 'decoder.layers.1.feed_forward.pwff_layer.0.weight', 'decoder.layers.1.feed_forward.pwff_layer.3.bias', 'decoder.layers.1.feed_forward.pwff_layer.3.weight', 'decoder.layers.1.src_trg_att.k_layer.bias', 'decoder.layers.1.src_trg_att.k_layer.weight', 'decoder.layers.1.src_trg_att.output_layer.bias', 'decoder.layers.1.src_trg_att.output_layer.weight', 'decoder.layers.1.src_trg_att.q_layer.bias', 'decoder.layers.1.src_trg_att.q_layer.weight', 'decoder.layers.1.src_trg_att.v_layer.bias', 'decoder.layers.1.src_trg_att.v_layer.weight', 'decoder.layers.1.trg_trg_att.k_layer.bias', 'decoder.layers.1.trg_trg_att.k_layer.weight', 'decoder.layers.1.trg_trg_att.output_layer.bias', 'decoder.layers.1.trg_trg_att.output_layer.weight', 'decoder.layers.1.trg_trg_att.q_layer.bias', 'decoder.layers.1.trg_trg_att.q_layer.weight', 'decoder.layers.1.trg_trg_att.v_layer.bias', 'decoder.layers.1.trg_trg_att.v_layer.weight', 'decoder.layers.1.x_layer_norm.bias', 'decoder.layers.1.x_layer_norm.weight', 'decoder.layers.2.dec_layer_norm.bias', 'decoder.layers.2.dec_layer_norm.weight', 'decoder.layers.2.feed_forward.layer_norm.bias', 'decoder.layers.2.feed_forward.layer_norm.weight', 'decoder.layers.2.feed_forward.pwff_layer.0.bias', 'decoder.layers.2.feed_forward.pwff_layer.0.weight', 'decoder.layers.2.feed_forward.pwff_layer.3.bias', 'decoder.layers.2.feed_forward.pwff_layer.3.weight', 'decoder.layers.2.src_trg_att.k_layer.bias', 'decoder.layers.2.src_trg_att.k_layer.weight', 'decoder.layers.2.src_trg_att.output_layer.bias', 'decoder.layers.2.src_trg_att.output_layer.weight', 'decoder.layers.2.src_trg_att.q_layer.bias', 'decoder.layers.2.src_trg_att.q_layer.weight', 'decoder.layers.2.src_trg_att.v_layer.bias', 'decoder.layers.2.src_trg_att.v_layer.weight', 'decoder.layers.2.trg_trg_att.k_layer.bias', 'decoder.layers.2.trg_trg_att.k_layer.weight', 'decoder.layers.2.trg_trg_att.output_layer.bias', 'decoder.layers.2.trg_trg_att.output_layer.weight', 'decoder.layers.2.trg_trg_att.q_layer.bias', 'decoder.layers.2.trg_trg_att.q_layer.weight', 'decoder.layers.2.trg_trg_att.v_layer.bias', 'decoder.layers.2.trg_trg_att.v_layer.weight', 'decoder.layers.2.x_layer_norm.bias', 'decoder.layers.2.x_layer_norm.weight', 'decoder.layers.3.dec_layer_norm.bias', 'decoder.layers.3.dec_layer_norm.weight', 'decoder.layers.3.feed_forward.layer_norm.bias', 'decoder.layers.3.feed_forward.layer_norm.weight', 'decoder.layers.3.feed_forward.pwff_layer.0.bias', 'decoder.layers.3.feed_forward.pwff_layer.0.weight', 'decoder.layers.3.feed_forward.pwff_layer.3.bias', 'decoder.layers.3.feed_forward.pwff_layer.3.weight', 'decoder.layers.3.src_trg_att.k_layer.bias', 'decoder.layers.3.src_trg_att.k_layer.weight', 'decoder.layers.3.src_trg_att.output_layer.bias', 'decoder.layers.3.src_trg_att.output_layer.weight', 'decoder.layers.3.src_trg_att.q_layer.bias', 'decoder.layers.3.src_trg_att.q_layer.weight', 'decoder.layers.3.src_trg_att.v_layer.bias', 'decoder.layers.3.src_trg_att.v_layer.weight', 'decoder.layers.3.trg_trg_att.k_layer.bias', 'decoder.layers.3.trg_trg_att.k_layer.weight', 'decoder.layers.3.trg_trg_att.output_layer.bias', 'decoder.layers.3.trg_trg_att.output_layer.weight', 'decoder.layers.3.trg_trg_att.q_layer.bias', 'decoder.layers.3.trg_trg_att.q_layer.weight', 'decoder.layers.3.trg_trg_att.v_layer.bias', 'decoder.layers.3.trg_trg_att.v_layer.weight', 'decoder.layers.3.x_layer_norm.bias', 'decoder.layers.3.x_layer_norm.weight', 'decoder.layers.4.dec_layer_norm.bias', 'decoder.layers.4.dec_layer_norm.weight', 'decoder.layers.4.feed_forward.layer_norm.bias', 'decoder.layers.4.feed_forward.layer_norm.weight', 'decoder.layers.4.feed_forward.pwff_layer.0.bias', 'decoder.layers.4.feed_forward.pwff_layer.0.weight', 'decoder.layers.4.feed_forward.pwff_layer.3.bias', 'decoder.layers.4.feed_forward.pwff_layer.3.weight', 'decoder.layers.4.src_trg_att.k_layer.bias', 'decoder.layers.4.src_trg_att.k_layer.weight', 'decoder.layers.4.src_trg_att.output_layer.bias', 'decoder.layers.4.src_trg_att.output_layer.weight', 'decoder.layers.4.src_trg_att.q_layer.bias', 'decoder.layers.4.src_trg_att.q_layer.weight', 'decoder.layers.4.src_trg_att.v_layer.bias', 'decoder.layers.4.src_trg_att.v_layer.weight', 'decoder.layers.4.trg_trg_att.k_layer.bias', 'decoder.layers.4.trg_trg_att.k_layer.weight', 'decoder.layers.4.trg_trg_att.output_layer.bias', 'decoder.layers.4.trg_trg_att.output_layer.weight', 'decoder.layers.4.trg_trg_att.q_layer.bias', 'decoder.layers.4.trg_trg_att.q_layer.weight', 'decoder.layers.4.trg_trg_att.v_layer.bias', 'decoder.layers.4.trg_trg_att.v_layer.weight', 'decoder.layers.4.x_layer_norm.bias', 'decoder.layers.4.x_layer_norm.weight', 'decoder.layers.5.dec_layer_norm.bias', 'decoder.layers.5.dec_layer_norm.weight', 'decoder.layers.5.feed_forward.layer_norm.bias', 'decoder.layers.5.feed_forward.layer_norm.weight', 'decoder.layers.5.feed_forward.pwff_layer.0.bias', 'decoder.layers.5.feed_forward.pwff_layer.0.weight', 'decoder.layers.5.feed_forward.pwff_layer.3.bias', 'decoder.layers.5.feed_forward.pwff_layer.3.weight', 'decoder.layers.5.src_trg_att.k_layer.bias', 'decoder.layers.5.src_trg_att.k_layer.weight', 'decoder.layers.5.src_trg_att.output_layer.bias', 'decoder.layers.5.src_trg_att.output_layer.weight', 'decoder.layers.5.src_trg_att.q_layer.bias', 'decoder.layers.5.src_trg_att.q_layer.weight', 'decoder.layers.5.src_trg_att.v_layer.bias', 'decoder.layers.5.src_trg_att.v_layer.weight', 'decoder.layers.5.trg_trg_att.k_layer.bias', 'decoder.layers.5.trg_trg_att.k_layer.weight', 'decoder.layers.5.trg_trg_att.output_layer.bias', 'decoder.layers.5.trg_trg_att.output_layer.weight', 'decoder.layers.5.trg_trg_att.q_layer.bias', 'decoder.layers.5.trg_trg_att.q_layer.weight', 'decoder.layers.5.trg_trg_att.v_layer.bias', 'decoder.layers.5.trg_trg_att.v_layer.weight', 'decoder.layers.5.x_layer_norm.bias', 'decoder.layers.5.x_layer_norm.weight', 'encoder.layer_norm.bias', 'encoder.layer_norm.weight', 'encoder.layers.0.feed_forward.layer_norm.bias', 'encoder.layers.0.feed_forward.layer_norm.weight', 'encoder.layers.0.feed_forward.pwff_layer.0.bias', 'encoder.layers.0.feed_forward.pwff_layer.0.weight', 'encoder.layers.0.feed_forward.pwff_layer.3.bias', 'encoder.layers.0.feed_forward.pwff_layer.3.weight', 'encoder.layers.0.layer_norm.bias', 'encoder.layers.0.layer_norm.weight', 'encoder.layers.0.src_src_att.k_layer.bias', 'encoder.layers.0.src_src_att.k_layer.weight', 'encoder.layers.0.src_src_att.output_layer.bias', 'encoder.layers.0.src_src_att.output_layer.weight', 'encoder.layers.0.src_src_att.q_layer.bias', 'encoder.layers.0.src_src_att.q_layer.weight', 'encoder.layers.0.src_src_att.v_layer.bias', 'encoder.layers.0.src_src_att.v_layer.weight', 'encoder.layers.1.feed_forward.layer_norm.bias', 'encoder.layers.1.feed_forward.layer_norm.weight', 'encoder.layers.1.feed_forward.pwff_layer.0.bias', 'encoder.layers.1.feed_forward.pwff_layer.0.weight', 'encoder.layers.1.feed_forward.pwff_layer.3.bias', 'encoder.layers.1.feed_forward.pwff_layer.3.weight', 'encoder.layers.1.layer_norm.bias', 'encoder.layers.1.layer_norm.weight', 'encoder.layers.1.src_src_att.k_layer.bias', 'encoder.layers.1.src_src_att.k_layer.weight', 'encoder.layers.1.src_src_att.output_layer.bias', 'encoder.layers.1.src_src_att.output_layer.weight', 'encoder.layers.1.src_src_att.q_layer.bias', 'encoder.layers.1.src_src_att.q_layer.weight', 'encoder.layers.1.src_src_att.v_layer.bias', 'encoder.layers.1.src_src_att.v_layer.weight', 'encoder.layers.2.feed_forward.layer_norm.bias', 'encoder.layers.2.feed_forward.layer_norm.weight', 'encoder.layers.2.feed_forward.pwff_layer.0.bias', 'encoder.layers.2.feed_forward.pwff_layer.0.weight', 'encoder.layers.2.feed_forward.pwff_layer.3.bias', 'encoder.layers.2.feed_forward.pwff_layer.3.weight', 'encoder.layers.2.layer_norm.bias', 'encoder.layers.2.layer_norm.weight', 'encoder.layers.2.src_src_att.k_layer.bias', 'encoder.layers.2.src_src_att.k_layer.weight', 'encoder.layers.2.src_src_att.output_layer.bias', 'encoder.layers.2.src_src_att.output_layer.weight', 'encoder.layers.2.src_src_att.q_layer.bias', 'encoder.layers.2.src_src_att.q_layer.weight', 'encoder.layers.2.src_src_att.v_layer.bias', 'encoder.layers.2.src_src_att.v_layer.weight', 'encoder.layers.3.feed_forward.layer_norm.bias', 'encoder.layers.3.feed_forward.layer_norm.weight', 'encoder.layers.3.feed_forward.pwff_layer.0.bias', 'encoder.layers.3.feed_forward.pwff_layer.0.weight', 'encoder.layers.3.feed_forward.pwff_layer.3.bias', 'encoder.layers.3.feed_forward.pwff_layer.3.weight', 'encoder.layers.3.layer_norm.bias', 'encoder.layers.3.layer_norm.weight', 'encoder.layers.3.src_src_att.k_layer.bias', 'encoder.layers.3.src_src_att.k_layer.weight', 'encoder.layers.3.src_src_att.output_layer.bias', 'encoder.layers.3.src_src_att.output_layer.weight', 'encoder.layers.3.src_src_att.q_layer.bias', 'encoder.layers.3.src_src_att.q_layer.weight', 'encoder.layers.3.src_src_att.v_layer.bias', 'encoder.layers.3.src_src_att.v_layer.weight', 'encoder.layers.4.feed_forward.layer_norm.bias', 'encoder.layers.4.feed_forward.layer_norm.weight', 'encoder.layers.4.feed_forward.pwff_layer.0.bias', 'encoder.layers.4.feed_forward.pwff_layer.0.weight', 'encoder.layers.4.feed_forward.pwff_layer.3.bias', 'encoder.layers.4.feed_forward.pwff_layer.3.weight', 'encoder.layers.4.layer_norm.bias', 'encoder.layers.4.layer_norm.weight', 'encoder.layers.4.src_src_att.k_layer.bias', 'encoder.layers.4.src_src_att.k_layer.weight', 'encoder.layers.4.src_src_att.output_layer.bias', 'encoder.layers.4.src_src_att.output_layer.weight', 'encoder.layers.4.src_src_att.q_layer.bias', 'encoder.layers.4.src_src_att.q_layer.weight', 'encoder.layers.4.src_src_att.v_layer.bias', 'encoder.layers.4.src_src_att.v_layer.weight', 'encoder.layers.5.feed_forward.layer_norm.bias', 'encoder.layers.5.feed_forward.layer_norm.weight', 'encoder.layers.5.feed_forward.pwff_layer.0.bias', 'encoder.layers.5.feed_forward.pwff_layer.0.weight', 'encoder.layers.5.feed_forward.pwff_layer.3.bias', 'encoder.layers.5.feed_forward.pwff_layer.3.weight', 'encoder.layers.5.layer_norm.bias', 'encoder.layers.5.layer_norm.weight', 'encoder.layers.5.src_src_att.k_layer.bias', 'encoder.layers.5.src_src_att.k_layer.weight', 'encoder.layers.5.src_src_att.output_layer.bias', 'encoder.layers.5.src_src_att.output_layer.weight', 'encoder.layers.5.src_src_att.q_layer.bias', 'encoder.layers.5.src_src_att.q_layer.weight', 'encoder.layers.5.src_src_att.v_layer.bias', 'encoder.layers.5.src_src_att.v_layer.weight', 'src_embed.lut.weight']\n",
      "2019-10-05 14:10:35,995 Loading model from /content/drive/My Drive/masakhane/en-xh/models/enxh_transformer/1.ckpt\n",
      "2019-10-05 14:10:36,393 cfg.name                           : enxh_transformer\n",
      "2019-10-05 14:10:36,393 cfg.data.src                       : en\n",
      "2019-10-05 14:10:36,393 cfg.data.trg                       : xh\n",
      "2019-10-05 14:10:36,393 cfg.data.train                     : data/enxh/train.bpe\n",
      "2019-10-05 14:10:36,394 cfg.data.dev                       : data/enxh/dev.bpe\n",
      "2019-10-05 14:10:36,394 cfg.data.test                      : data/enxh/test.bpe\n",
      "2019-10-05 14:10:36,394 cfg.data.level                     : bpe\n",
      "2019-10-05 14:10:36,394 cfg.data.lowercase                 : False\n",
      "2019-10-05 14:10:36,394 cfg.data.max_sent_length           : 100\n",
      "2019-10-05 14:10:36,394 cfg.data.src_vocab                 : data/enxh/vocab.txt\n",
      "2019-10-05 14:10:36,394 cfg.data.trg_vocab                 : data/enxh/vocab.txt\n",
      "2019-10-05 14:10:36,394 cfg.testing.beam_size              : 5\n",
      "2019-10-05 14:10:36,394 cfg.testing.alpha                  : 1.0\n",
      "2019-10-05 14:10:36,394 cfg.training.load_model            : /content/drive/My Drive/masakhane/en-xh/models/enxh_transformer/1.ckpt\n",
      "2019-10-05 14:10:36,395 cfg.training.random_seed           : 42\n",
      "2019-10-05 14:10:36,395 cfg.training.optimizer             : adam\n",
      "2019-10-05 14:10:36,395 cfg.training.normalization         : tokens\n",
      "2019-10-05 14:10:36,395 cfg.training.adam_betas            : [0.9, 0.999]\n",
      "2019-10-05 14:10:36,395 cfg.training.scheduling            : noam\n",
      "2019-10-05 14:10:36,395 cfg.training.learning_rate_factor  : 0.5\n",
      "2019-10-05 14:10:36,395 cfg.training.learning_rate_warmup  : 1000\n",
      "2019-10-05 14:10:36,395 cfg.training.patience              : 8\n",
      "2019-10-05 14:10:36,396 cfg.training.decrease_factor       : 0.7\n",
      "2019-10-05 14:10:36,396 cfg.training.loss                  : crossentropy\n",
      "2019-10-05 14:10:36,396 cfg.training.learning_rate         : 0.0002\n",
      "2019-10-05 14:10:36,396 cfg.training.learning_rate_min     : 1e-08\n",
      "2019-10-05 14:10:36,396 cfg.training.weight_decay          : 0.0\n",
      "2019-10-05 14:10:36,396 cfg.training.label_smoothing       : 0.1\n",
      "2019-10-05 14:10:36,396 cfg.training.batch_size            : 4096\n",
      "2019-10-05 14:10:36,396 cfg.training.batch_type            : token\n",
      "2019-10-05 14:10:36,396 cfg.training.eval_batch_size       : 3600\n",
      "2019-10-05 14:10:36,396 cfg.training.eval_batch_type       : token\n",
      "2019-10-05 14:10:36,397 cfg.training.batch_multiplier      : 1\n",
      "2019-10-05 14:10:36,397 cfg.training.early_stopping_metric : ppl\n",
      "2019-10-05 14:10:36,397 cfg.training.epochs                : 1\n",
      "2019-10-05 14:10:36,397 cfg.training.validation_freq       : 1\n",
      "2019-10-05 14:10:36,397 cfg.training.logging_freq          : 100\n",
      "2019-10-05 14:10:36,397 cfg.training.eval_metric           : bleu\n",
      "2019-10-05 14:10:36,397 cfg.training.model_dir             : models/enxh_transformer\n",
      "2019-10-05 14:10:36,397 cfg.training.overwrite             : True\n",
      "2019-10-05 14:10:36,397 cfg.training.shuffle               : True\n",
      "2019-10-05 14:10:36,397 cfg.training.use_cuda              : True\n",
      "2019-10-05 14:10:36,398 cfg.training.max_output_length     : 100\n",
      "2019-10-05 14:10:36,398 cfg.training.print_valid_sents     : [0, 1, 2, 3]\n",
      "2019-10-05 14:10:36,398 cfg.training.keep_last_ckpts       : 3\n",
      "2019-10-05 14:10:36,398 cfg.model.initializer              : xavier\n",
      "2019-10-05 14:10:36,398 cfg.model.bias_initializer         : zeros\n",
      "2019-10-05 14:10:36,398 cfg.model.init_gain                : 1.0\n",
      "2019-10-05 14:10:36,398 cfg.model.embed_initializer        : xavier\n",
      "2019-10-05 14:10:36,398 cfg.model.embed_init_gain          : 1.0\n",
      "2019-10-05 14:10:36,398 cfg.model.tied_embeddings          : True\n",
      "2019-10-05 14:10:36,398 cfg.model.tied_softmax             : True\n",
      "2019-10-05 14:10:36,399 cfg.model.encoder.type             : transformer\n",
      "2019-10-05 14:10:36,399 cfg.model.encoder.num_layers       : 6\n",
      "2019-10-05 14:10:36,399 cfg.model.encoder.num_heads        : 8\n",
      "2019-10-05 14:10:36,399 cfg.model.encoder.embeddings.embedding_dim : 512\n",
      "2019-10-05 14:10:36,399 cfg.model.encoder.embeddings.scale : True\n",
      "2019-10-05 14:10:36,399 cfg.model.encoder.embeddings.dropout : 0.0\n",
      "2019-10-05 14:10:36,399 cfg.model.encoder.hidden_size      : 512\n",
      "2019-10-05 14:10:36,399 cfg.model.encoder.ff_size          : 2048\n",
      "2019-10-05 14:10:36,400 cfg.model.encoder.dropout          : 0.3\n",
      "2019-10-05 14:10:36,400 cfg.model.decoder.type             : transformer\n",
      "2019-10-05 14:10:36,400 cfg.model.decoder.num_layers       : 6\n",
      "2019-10-05 14:10:36,400 cfg.model.decoder.num_heads        : 8\n",
      "2019-10-05 14:10:36,400 cfg.model.decoder.embeddings.embedding_dim : 512\n",
      "2019-10-05 14:10:36,400 cfg.model.decoder.embeddings.scale : True\n",
      "2019-10-05 14:10:36,400 cfg.model.decoder.embeddings.dropout : 0.0\n",
      "2019-10-05 14:10:36,400 cfg.model.decoder.hidden_size      : 512\n",
      "2019-10-05 14:10:36,400 cfg.model.decoder.ff_size          : 2048\n",
      "2019-10-05 14:10:36,401 cfg.model.decoder.dropout          : 0.3\n",
      "2019-10-05 14:10:36,401 Data set sizes: \n",
      "\ttrain 47489,\n",
      "\tvalid 1001,\n",
      "\ttest 1001\n",
      "2019-10-05 14:10:36,401 First training example:\n",
      "\t[SRC] so@@ ur@@ c@@ e@@ _@@ s@@ ent@@ ence\n",
      "\t[TRG] t@@ arg@@ et@@ _@@ s@@ ent@@ ence\n",
      "2019-10-05 14:10:36,401 First 10 words (src): (0) <unk> (1) <pad> (2) <s> (3) </s> (4) the (5) of (6) a (7) to (8) and (9) \"@@\n",
      "2019-10-05 14:10:36,401 First 10 words (trg): (0) <unk> (1) <pad> (2) <s> (3) </s> (4) the (5) of (6) a (7) to (8) and (9) \"@@\n",
      "2019-10-05 14:10:36,401 Number of Src words (types): 4165\n",
      "2019-10-05 14:10:36,401 Number of Trg words (types): 4165\n",
      "2019-10-05 14:10:36,401 Model(\n",
      "\tencoder=TransformerEncoder(num_layers=6, num_heads=8),\n",
      "\tdecoder=TransformerDecoder(num_layers=6, num_heads=8),\n",
      "\tsrc_embed=Embeddings(embedding_dim=512, vocab_size=4165),\n",
      "\ttrg_embed=Embeddings(embedding_dim=512, vocab_size=4165))\n",
      "2019-10-05 14:10:36,405 EPOCH 1\n",
      "2019-10-05 14:15:12,564 Hooray! New best validation result [ppl]!\n",
      "2019-10-05 14:15:12,565 Saving new checkpoint.\n",
      "2019-10-05 14:15:14,936 Example #0\n",
      "2019-10-05 14:15:14,936 \tSource:     source_sentence\n",
      "2019-10-05 14:15:14,936 \tReference:  target_sentence\n",
      "2019-10-05 14:15:14,936 \tHypothesis: \n",
      "2019-10-05 14:15:14,936 Example #1\n",
      "2019-10-05 14:15:14,936 \tSource:     \"at such close ranges the power of penetration of roundshot was impressive, at 30 yards an 18 pound shot would penetrate four oak planks 32.5 inches thick (just under 1 meter thick), hurling a shower of splinters up to thirty yards.\"\n",
      "2019-10-05 14:15:14,937 \tReference:  \"ngumganyana omfutshen ngolo hlobo amandla okungena kwembumbulu kwakunika umdla, kwiyadi ezingama-30 imbumbulu enobunzima obuli-18 yayinokugqobhoza amaplanga om-oki azi-intsi ezingama-32.5 ububanzi obukhupha ngaphantsi kwemitha e-1 ububanzi), ukuphosa ngaphandle iimvula yamaceba kubude obuziyadi ezingamashumi amathathu.\"\n",
      "2019-10-05 14:15:14,937 \tHypothesis: \n",
      "2019-10-05 14:15:14,937 Example #2\n",
      "2019-10-05 14:15:14,937 \tSource:     at 300 yards range a 32 pounder firing grapeshot could penetrate 5 inches of firm planking and 4 of oak.\n",
      "2019-10-05 14:15:14,937 \tReference:  kumgama ongama-300 eyadi umpu ohlohla iimbumbulu ezingama-32 odubula uhlwayelo lweebhombhu zentsimbi ezinokungena ngaphakathi kumaplanga azi intsi ezi-5 namane om-oki.\n",
      "2019-10-05 14:15:14,937 \tHypothesis: \n",
      "2019-10-05 14:15:14,937 Example #3\n",
      "2019-10-05 14:15:14,937 \tSource:     small arms\n",
      "2019-10-05 14:15:14,937 \tReference:  izixhobo ezincinci\n",
      "2019-10-05 14:15:14,937 \tHypothesis: \n",
      "2019-10-05 14:15:14,937 Validation result at epoch   1, step        2: bleu:   0.00, loss: 220568.7188, ppl: 1101.9646, duration: 277.6179s\n",
      "Traceback (most recent call last):\n",
      "  File \"/usr/lib/python3.6/runpy.py\", line 193, in _run_module_as_main\n",
      "    \"__main__\", mod_spec)\n",
      "  File \"/usr/lib/python3.6/runpy.py\", line 85, in _run_code\n",
      "    exec(code, run_globals)\n",
      "  File \"/content/joeynmt/joeynmt/__main__.py\", line 41, in <module>\n",
      "    main()\n",
      "  File \"/content/joeynmt/joeynmt/__main__.py\", line 29, in main\n",
      "    train(cfg_file=args.config_path)\n",
      "  File \"/content/joeynmt/joeynmt/training.py\", line 559, in train\n",
      "    trainer.train_and_validate(train_data=train_data, valid_data=dev_data)\n",
      "  File \"/content/joeynmt/joeynmt/training.py\", line 303, in train_and_validate\n",
      "    batch_type=self.eval_batch_type\n",
      "  File \"/content/joeynmt/joeynmt/prediction.py\", line 98, in validate_on_data\n",
      "    max_output_length=max_output_length)\n",
      "  File \"/content/joeynmt/joeynmt/model.py\", line 170, in run_batch\n",
      "    max_output_length=max_output_length)\n",
      "  File \"/content/joeynmt/joeynmt/search.py\", line 43, in greedy\n",
      "    decoder, encoder_output, encoder_hidden)\n",
      "  File \"/content/joeynmt/joeynmt/search.py\", line 139, in transformer_greedy\n",
      "    trg_mask=trg_mask\n",
      "  File \"/usr/local/lib/python3.6/dist-packages/torch/nn/modules/module.py\", line 547, in __call__\n",
      "    result = self.forward(*input, **kwargs)\n",
      "  File \"/content/joeynmt/joeynmt/decoders.py\", line 514, in forward\n",
      "    trg_embed.size(1)).type_as(trg_mask)\n",
      "KeyboardInterrupt\n"
     ]
    }
   ],
   "source": [
    "# Train the model\n",
    "# You can press Ctrl-C to stop. And then run the next cell to save your checkpoints! \n",
    "!cd joeynmt; python3 -m joeynmt train configs/transformer_$src$tgt.yaml"
   ]
  },
  {
   "cell_type": "code",
   "execution_count": null,
   "metadata": {
    "colab": {},
    "colab_type": "code",
    "id": "MBoDS09JM807"
   },
   "outputs": [],
   "source": [
    "# Copy the created models from the notebook storage to google drive for persistant storage \n",
    "!cp -r joeynmt/models/${src}${tgt}_transformer/* \"$gdrive_path/models/${src}${tgt}_transformer/\""
   ]
  },
  {
   "cell_type": "code",
   "execution_count": null,
   "metadata": {
    "colab": {
     "base_uri": "https://localhost:8080/",
     "height": 34
    },
    "colab_type": "code",
    "id": "n94wlrCjVc17",
    "outputId": "1c9a7514-2b4e-4a9d-87c3-11b73103385f"
   },
   "outputs": [
    {
     "name": "stdout",
     "output_type": "stream",
     "text": [
      "Steps: 2\tLoss: 220568.71875\tPPL: 1101.96460\tbleu: 0.00000\tLR: 0.00000070\t*\n"
     ]
    }
   ],
   "source": [
    "# Output our validation accuracy\n",
    "! cat \"$gdrive_path/models/${src}${tgt}_transformer/validations.txt\""
   ]
  },
  {
   "cell_type": "code",
   "execution_count": null,
   "metadata": {
    "colab": {
     "base_uri": "https://localhost:8080/",
     "height": 51
    },
    "colab_type": "code",
    "id": "66WhRE9lIhoD",
    "outputId": "2d34e7cb-5462-468d-c57b-54bcdcc69b82"
   },
   "outputs": [
    {
     "name": "stdout",
     "output_type": "stream",
     "text": [
      "2019-10-05 14:18:07,761 -  dev bleu:   0.00 [Beam search decoding with beam size = 5 and alpha = 1.0]\n",
      "2019-10-05 14:18:14,912 - test bleu:   0.00 [Beam search decoding with beam size = 5 and alpha = 1.0]\n"
     ]
    }
   ],
   "source": [
    "# Test our model\n",
    "! cd joeynmt; python3 -m joeynmt test \"$gdrive_path/models/${src}${tgt}_transformer/config.yaml\""
   ]
  }
 ],
 "metadata": {
  "accelerator": "GPU",
  "colab": {
   "collapsed_sections": [],
   "name": "starter_notebook.ipynb",
   "provenance": [],
   "toc_visible": true
  },
  "kernelspec": {
   "display_name": "Python 3",
   "language": "python",
   "name": "python3"
  },
  "language_info": {
   "codemirror_mode": {
    "name": "ipython",
    "version": 3
   },
   "file_extension": ".py",
   "mimetype": "text/x-python",
   "name": "python",
   "nbconvert_exporter": "python",
   "pygments_lexer": "ipython3",
   "version": "3.6.9"
  }
 },
 "nbformat": 4,
 "nbformat_minor": 4
}
