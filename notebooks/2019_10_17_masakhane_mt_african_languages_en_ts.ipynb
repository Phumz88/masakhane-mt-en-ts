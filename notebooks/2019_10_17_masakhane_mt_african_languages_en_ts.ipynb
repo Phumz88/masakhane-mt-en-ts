{
 "cells": [
  {
   "cell_type": "markdown",
   "metadata": {
    "colab_type": "text",
    "id": "Igc5itf-xMGj"
   },
   "source": [
    "# Masakhane - Machine Translation for African Languages (Using JoeyNMT)"
   ]
  },
  {
   "cell_type": "markdown",
   "metadata": {
    "colab_type": "text",
    "id": "x4fXCKCf36IK"
   },
   "source": [
    "## Note before beginning:\n",
    "### - The idea is that you should be able to make minimal changes to this in order to get SOME result for your own translation corpus. \n",
    "\n",
    "### - The tl;dr: Go to the **\"TODO\"** comments which will tell you what to update to get up and running\n",
    "\n",
    "### - If you actually want to have a clue what you're doing, read the text and peek at the links\n",
    "\n",
    "### - With 100 epochs, it should take around 7 hours to run in Google Colab\n",
    "\n",
    "### - Once you've gotten a result for your language, please attach and email your notebook that generated it to masakhanetranslation@gmail.com\n",
    "\n",
    "### - If you care enough and get a chance, doing a brief background on your language would be amazing. See examples in  [(Martinus, 2019)](https://arxiv.org/abs/1906.05685)"
   ]
  },
  {
   "cell_type": "markdown",
   "metadata": {
    "colab_type": "text",
    "id": "l929HimrxS0a"
   },
   "source": [
    "## Retrieve your data & make a parallel corpus\n",
    "\n",
    "If you are wanting to use the JW300 data referenced on the Masakhane website or in our GitHub repo, you can use `opus-tools` to convert the data into a convenient format. `opus_read` from that package provides a convenient tool for reading the native aligned XML files and to convert them to TMX format. The tool can also be used to fetch relevant files from OPUS on the fly and to filter the data as necessary. [Read the documentation](https://pypi.org/project/opustools-pkg/) for more details.\n",
    "\n",
    "Once you have your corpus files in TMX format (an xml structure which will include the sentences in your target language and your source language in a single file), we recommend reading them into a pandas dataframe. Thankfully, Jade wrote a silly `tmx2dataframe` package which converts your tmx file to a pandas dataframe. "
   ]
  },
  {
   "cell_type": "code",
   "execution_count": 2,
   "metadata": {
    "colab": {
     "base_uri": "https://localhost:8080/",
     "height": 121
    },
    "colab_type": "code",
    "id": "oGRmDELn7Az0",
    "outputId": "a9bb9c8e-d7f5-4363-acbd-47348e2e3640"
   },
   "outputs": [
    {
     "name": "stderr",
     "output_type": "stream",
     "text": [
      "/home/vima/anaconda3/lib/python3.7/site-packages/google/colab/data_table.py:30: UserWarning: IPython.utils.traitlets has moved to a top-level traitlets package.\n",
      "  from IPython.utils import traitlets as _traitlets\n"
     ]
    },
    {
     "ename": "KeyError",
     "evalue": "'CLOUDSDK_CONFIG'",
     "output_type": "error",
     "traceback": [
      "\u001b[0;31m---------------------------------------------------------------------------\u001b[0m",
      "\u001b[0;31mKeyError\u001b[0m                                  Traceback (most recent call last)",
      "\u001b[0;32m<ipython-input-2-d5df0069828e>\u001b[0m in \u001b[0;36m<module>\u001b[0;34m\u001b[0m\n\u001b[1;32m      1\u001b[0m \u001b[0;32mfrom\u001b[0m \u001b[0mgoogle\u001b[0m\u001b[0;34m.\u001b[0m\u001b[0mcolab\u001b[0m \u001b[0;32mimport\u001b[0m \u001b[0mdrive\u001b[0m\u001b[0;34m\u001b[0m\u001b[0;34m\u001b[0m\u001b[0m\n\u001b[0;32m----> 2\u001b[0;31m \u001b[0mdrive\u001b[0m\u001b[0;34m.\u001b[0m\u001b[0mmount\u001b[0m\u001b[0;34m(\u001b[0m\u001b[0;34m'/content/drive'\u001b[0m\u001b[0;34m)\u001b[0m\u001b[0;34m\u001b[0m\u001b[0;34m\u001b[0m\u001b[0m\n\u001b[0m",
      "\u001b[0;32m~/anaconda3/lib/python3.7/site-packages/google/colab/drive.py\u001b[0m in \u001b[0;36mmount\u001b[0;34m(mountpoint, force_remount, timeout_ms)\u001b[0m\n\u001b[1;32m     80\u001b[0m     \u001b[0;32mreturn\u001b[0m\u001b[0;34m\u001b[0m\u001b[0;34m\u001b[0m\u001b[0m\n\u001b[1;32m     81\u001b[0m \u001b[0;34m\u001b[0m\u001b[0m\n\u001b[0;32m---> 82\u001b[0;31m   \u001b[0menv\u001b[0m \u001b[0;34m=\u001b[0m \u001b[0m_env\u001b[0m\u001b[0;34m(\u001b[0m\u001b[0;34m)\u001b[0m\u001b[0;34m\u001b[0m\u001b[0;34m\u001b[0m\u001b[0m\n\u001b[0m\u001b[1;32m     83\u001b[0m   \u001b[0mhome\u001b[0m \u001b[0;34m=\u001b[0m \u001b[0menv\u001b[0m\u001b[0;34m.\u001b[0m\u001b[0mhome\u001b[0m\u001b[0;34m\u001b[0m\u001b[0;34m\u001b[0m\u001b[0m\n\u001b[1;32m     84\u001b[0m   \u001b[0mroot_dir\u001b[0m \u001b[0;34m=\u001b[0m \u001b[0menv\u001b[0m\u001b[0;34m.\u001b[0m\u001b[0mroot_dir\u001b[0m\u001b[0;34m\u001b[0m\u001b[0;34m\u001b[0m\u001b[0m\n",
      "\u001b[0;32m~/anaconda3/lib/python3.7/site-packages/google/colab/drive.py\u001b[0m in \u001b[0;36m_env\u001b[0;34m()\u001b[0m\n\u001b[1;32m     41\u001b[0m   \u001b[0mhome\u001b[0m \u001b[0;34m=\u001b[0m \u001b[0m_os\u001b[0m\u001b[0;34m.\u001b[0m\u001b[0menviron\u001b[0m\u001b[0;34m[\u001b[0m\u001b[0;34m'HOME'\u001b[0m\u001b[0;34m]\u001b[0m\u001b[0;34m\u001b[0m\u001b[0;34m\u001b[0m\u001b[0m\n\u001b[1;32m     42\u001b[0m   root_dir = _os.path.realpath(\n\u001b[0;32m---> 43\u001b[0;31m       _os.path.join(_os.environ['CLOUDSDK_CONFIG'], '../..'))\n\u001b[0m\u001b[1;32m     44\u001b[0m   \u001b[0minet_family\u001b[0m \u001b[0;34m=\u001b[0m \u001b[0;34m'IPV4_ONLY'\u001b[0m\u001b[0;34m\u001b[0m\u001b[0;34m\u001b[0m\u001b[0m\n\u001b[1;32m     45\u001b[0m   \u001b[0mdev\u001b[0m \u001b[0;34m=\u001b[0m \u001b[0;34m'/dev/fuse'\u001b[0m\u001b[0;34m\u001b[0m\u001b[0;34m\u001b[0m\u001b[0m\n",
      "\u001b[0;32m~/anaconda3/lib/python3.7/os.py\u001b[0m in \u001b[0;36m__getitem__\u001b[0;34m(self, key)\u001b[0m\n\u001b[1;32m    676\u001b[0m         \u001b[0;32mexcept\u001b[0m \u001b[0mKeyError\u001b[0m\u001b[0;34m:\u001b[0m\u001b[0;34m\u001b[0m\u001b[0;34m\u001b[0m\u001b[0m\n\u001b[1;32m    677\u001b[0m             \u001b[0;31m# raise KeyError with the original key value\u001b[0m\u001b[0;34m\u001b[0m\u001b[0;34m\u001b[0m\u001b[0;34m\u001b[0m\u001b[0m\n\u001b[0;32m--> 678\u001b[0;31m             \u001b[0;32mraise\u001b[0m \u001b[0mKeyError\u001b[0m\u001b[0;34m(\u001b[0m\u001b[0mkey\u001b[0m\u001b[0;34m)\u001b[0m \u001b[0;32mfrom\u001b[0m \u001b[0;32mNone\u001b[0m\u001b[0;34m\u001b[0m\u001b[0;34m\u001b[0m\u001b[0m\n\u001b[0m\u001b[1;32m    679\u001b[0m         \u001b[0;32mreturn\u001b[0m \u001b[0mself\u001b[0m\u001b[0;34m.\u001b[0m\u001b[0mdecodevalue\u001b[0m\u001b[0;34m(\u001b[0m\u001b[0mvalue\u001b[0m\u001b[0;34m)\u001b[0m\u001b[0;34m\u001b[0m\u001b[0;34m\u001b[0m\u001b[0m\n\u001b[1;32m    680\u001b[0m \u001b[0;34m\u001b[0m\u001b[0m\n",
      "\u001b[0;31mKeyError\u001b[0m: 'CLOUDSDK_CONFIG'"
     ]
    }
   ],
   "source": [
    "from google.colab import drive\n",
    "drive.mount('/content/drive')"
   ]
  },
  {
   "cell_type": "code",
   "execution_count": 1,
   "metadata": {},
   "outputs": [
    {
     "name": "stdout",
     "output_type": "stream",
     "text": [
      "/home/vima/dev/masakhane-mt-en-ts/experiment\n"
     ]
    }
   ],
   "source": [
    "cd ../experiment/"
   ]
  },
  {
   "cell_type": "code",
   "execution_count": 2,
   "metadata": {
    "colab": {},
    "colab_type": "code",
    "id": "Cn3tgQLzUxwn"
   },
   "outputs": [],
   "source": [
    "\n",
    "# TODO: Set your source and target languages. Keep in mind, these traditionally use language codes as found here:\n",
    "# These will also become the suffix's of all vocab and corpus files used throughout\n",
    "import os\n",
    "source_language = \"en\"\n",
    "target_language = \"ts\"\n",
    "tag = \"baseline\" # Give a unique name to your folder - this is to ensure you don't rewrite any models you've already submitted\n",
    "\n",
    "os.environ[\"src\"] = source_language # Sets them in bash as well, since we often use bash scripts\n",
    "os.environ[\"tgt\"] = target_language\n",
    "os.environ[\"tag\"] = tag\n",
    "\n",
    "# This will save it to a folder in our gdrive instead!\n",
    "# !mkdir -p \"/content/drive/My Drive/dev/data/masakhane/$src-$tgt-$tag\"\n",
    "# os.environ[\"gdrive_path\"] = \"/content/drive/My Drive/dev/data/masakhane/%s-%s-%s\" % (source_language, target_language, tag)"
   ]
  },
  {
   "cell_type": "code",
   "execution_count": null,
   "metadata": {
    "colab": {
     "base_uri": "https://localhost:8080/",
     "height": 34
    },
    "colab_type": "code",
    "id": "kBSgJHEw7Nvx",
    "outputId": "8c95ba52-ed8a-4e96-f509-7dd5d108ef15"
   },
   "outputs": [
    {
     "name": "stdout",
     "output_type": "stream",
     "text": [
      "/content/drive/My Drive/dev/data/masakhane/en-ts-baseline\n"
     ]
    }
   ],
   "source": [
    "!echo $gdrive_path"
   ]
  },
  {
   "cell_type": "code",
   "execution_count": 3,
   "metadata": {
    "colab": {
     "base_uri": "https://localhost:8080/",
     "height": 121
    },
    "colab_type": "code",
    "id": "gA75Fs9ys8Y9",
    "outputId": "88c1da4a-496a-4d9a-d93d-d3eddf7b3158"
   },
   "outputs": [
    {
     "name": "stdout",
     "output_type": "stream",
     "text": [
      "Collecting opustools-pkg\n",
      "\u001b[?25l  Downloading https://files.pythonhosted.org/packages/05/e7/005433050cf3d76bca0fbbc59631ce493fdabb029bbd795a08f26003a6bd/opustools_pkg-0.0.50-py3-none-any.whl (49kB)\n",
      "\u001b[K     |████████████████████████████████| 51kB 5.6MB/s eta 0:00:011\n",
      "\u001b[?25hInstalling collected packages: opustools-pkg\n",
      "Successfully installed opustools-pkg-0.0.50\n"
     ]
    }
   ],
   "source": [
    "# Install opus-tools\n",
    "! pip install opustools-pkg"
   ]
  },
  {
   "cell_type": "code",
   "execution_count": 4,
   "metadata": {
    "colab": {
     "base_uri": "https://localhost:8080/",
     "height": 202
    },
    "colab_type": "code",
    "id": "xq-tDZVks7ZD",
    "outputId": "5b7fef2d-ffc5-4972-d17b-0ccddcacba1b"
   },
   "outputs": [
    {
     "name": "stdout",
     "output_type": "stream",
     "text": [
      "\n",
      "Alignment file /proj/nlpl/data/OPUS/JW300/latest/xml/en-ts.xml.gz not found. The following files are available for downloading:\n",
      "\n",
      "   7 MB https://object.pouta.csc.fi/OPUS-JW300/v1/xml/en-ts.xml.gz\n",
      " 263 MB https://object.pouta.csc.fi/OPUS-JW300/v1/xml/en.zip\n",
      "  96 MB https://object.pouta.csc.fi/OPUS-JW300/v1/xml/ts.zip\n",
      "\n",
      " 366 MB Total size\n",
      "./JW300_latest_xml_en-ts.xml.gz ... 100% of 7 MB\n",
      "./JW300_latest_xml_en.zip ... 100% of 263 MB\n",
      "./JW300_latest_xml_ts.zip ... 100% of 96 MB\n"
     ]
    }
   ],
   "source": [
    "# Downloading our corpus\n",
    "! opus_read -d JW300 -s $src -t $tgt -wm moses -w jw300.$src jw300.$tgt -q\n",
    "\n",
    "# extract the corpus file\n",
    "! gunzip JW300_latest_xml_$src-$tgt.xml.gz"
   ]
  },
  {
   "cell_type": "code",
   "execution_count": 3,
   "metadata": {
    "colab": {
     "base_uri": "https://localhost:8080/",
     "height": 136
    },
    "colab_type": "code",
    "id": "3CNdwLBCfSIl",
    "outputId": "e097477b-b6ff-44d3-e080-1bcb293ea63e"
   },
   "outputs": [
    {
     "data": {
      "text/html": [
       "<div>\n",
       "<style scoped>\n",
       "    .dataframe tbody tr th:only-of-type {\n",
       "        vertical-align: middle;\n",
       "    }\n",
       "\n",
       "    .dataframe tbody tr th {\n",
       "        vertical-align: top;\n",
       "    }\n",
       "\n",
       "    .dataframe thead th {\n",
       "        text-align: right;\n",
       "    }\n",
       "</style>\n",
       "<table border=\"1\" class=\"dataframe\">\n",
       "  <thead>\n",
       "    <tr style=\"text-align: right;\">\n",
       "      <th></th>\n",
       "      <th>source_sentence</th>\n",
       "      <th>target_sentence</th>\n",
       "    </tr>\n",
       "  </thead>\n",
       "  <tbody>\n",
       "    <tr>\n",
       "      <td>0</td>\n",
       "      <td>Dowsing ​ — Scientific or Occult ?\\n</td>\n",
       "      <td>Ku Femba — I Sayense Kumbe I Vungoma ?\\n</td>\n",
       "    </tr>\n",
       "    <tr>\n",
       "      <td>1</td>\n",
       "      <td>“ AMAZING ! ”\\n</td>\n",
       "      <td>“ WA hlamarisa ! ”\\n</td>\n",
       "    </tr>\n",
       "    <tr>\n",
       "      <td>2</td>\n",
       "      <td>exclaimed a dairy farmer in the Midwestern Uni...</td>\n",
       "      <td>ku huwelela n’wamapursi wa vufuwela - masi le ...</td>\n",
       "    </tr>\n",
       "  </tbody>\n",
       "</table>\n",
       "</div>"
      ],
      "text/plain": [
       "                                     source_sentence  \\\n",
       "0               Dowsing ​ — Scientific or Occult ?\\n   \n",
       "1                                    “ AMAZING ! ”\\n   \n",
       "2  exclaimed a dairy farmer in the Midwestern Uni...   \n",
       "\n",
       "                                     target_sentence  \n",
       "0           Ku Femba — I Sayense Kumbe I Vungoma ?\\n  \n",
       "1                               “ WA hlamarisa ! ”\\n  \n",
       "2  ku huwelela n’wamapursi wa vufuwela - masi le ...  "
      ]
     },
     "execution_count": 3,
     "metadata": {},
     "output_type": "execute_result"
    }
   ],
   "source": [
    "import pandas as pd\n",
    "\n",
    "# TMX file to dataframe\n",
    "source_file = 'jw300.' + source_language\n",
    "target_file = 'jw300.' + target_language\n",
    "\n",
    "source = []\n",
    "target = []\n",
    "with open(source_file) as f:\n",
    "  for _, line in enumerate(f):\n",
    "    source.append(line)\n",
    "with open(target_file) as f:\n",
    "  for _, line in enumerate(f):\n",
    "    target.append(line)\n",
    "\n",
    "df = pd.DataFrame(zip(source, target), columns=['source_sentence', 'target_sentence'])\n",
    "df.head(3)"
   ]
  },
  {
   "cell_type": "markdown",
   "metadata": {
    "colab_type": "text",
    "id": "YkuK3B4p2AkN"
   },
   "source": [
    "## Pre-processing and export\n",
    "\n",
    "It is generally a good idea to remove duplicate translations and conflicting translations from the corpus. In practice, these public corpora include some number of these that need to be cleaned.\n",
    "\n",
    "In addition we will split our data into dev/test/train and export to the filesystem."
   ]
  },
  {
   "cell_type": "code",
   "execution_count": 4,
   "metadata": {
    "colab": {
     "base_uri": "https://localhost:8080/",
     "height": 185
    },
    "colab_type": "code",
    "id": "M_2ouEOH1_1q",
    "outputId": "be5f331f-1be2-4860-d933-731036bbf24c"
   },
   "outputs": [
    {
     "name": "stderr",
     "output_type": "stream",
     "text": [
      "/home/vima/anaconda3/lib/python3.7/site-packages/ipykernel_launcher.py:5: SettingWithCopyWarning: \n",
      "A value is trying to be set on a copy of a slice from a DataFrame\n",
      "\n",
      "See the caveats in the documentation: http://pandas.pydata.org/pandas-docs/stable/user_guide/indexing.html#returning-a-view-versus-a-copy\n",
      "  \"\"\"\n",
      "/home/vima/anaconda3/lib/python3.7/site-packages/ipykernel_launcher.py:6: SettingWithCopyWarning: \n",
      "A value is trying to be set on a copy of a slice from a DataFrame\n",
      "\n",
      "See the caveats in the documentation: http://pandas.pydata.org/pandas-docs/stable/user_guide/indexing.html#returning-a-view-versus-a-copy\n",
      "  \n"
     ]
    }
   ],
   "source": [
    "# drop duplicate translations\n",
    "df_pp = df.drop_duplicates()\n",
    "\n",
    "# drop conflicting translations\n",
    "df_pp.drop_duplicates(subset='source_sentence', inplace=True)\n",
    "df_pp.drop_duplicates(subset='target_sentence', inplace=True)"
   ]
  },
  {
   "cell_type": "code",
   "execution_count": 5,
   "metadata": {
    "colab": {
     "base_uri": "https://localhost:8080/",
     "height": 218
    },
    "colab_type": "code",
    "id": "hxxBOCA-xXhy",
    "outputId": "fe1b0c3a-7041-4805-8350-edcbd224e442"
   },
   "outputs": [
    {
     "name": "stderr",
     "output_type": "stream",
     "text": [
      "/home/vima/anaconda3/lib/python3.7/site-packages/ipykernel_launcher.py:9: SettingWithCopyWarning: \n",
      "A value is trying to be set on a copy of a slice from a DataFrame.\n",
      "Try using .loc[row_indexer,col_indexer] = value instead\n",
      "\n",
      "See the caveats in the documentation: http://pandas.pydata.org/pandas-docs/stable/user_guide/indexing.html#returning-a-view-versus-a-copy\n",
      "  if __name__ == '__main__':\n",
      "/home/vima/anaconda3/lib/python3.7/site-packages/ipykernel_launcher.py:10: SettingWithCopyWarning: \n",
      "A value is trying to be set on a copy of a slice from a DataFrame.\n",
      "Try using .loc[row_indexer,col_indexer] = value instead\n",
      "\n",
      "See the caveats in the documentation: http://pandas.pydata.org/pandas-docs/stable/user_guide/indexing.html#returning-a-view-versus-a-copy\n",
      "  # Remove the CWD from sys.path while we load stuff.\n"
     ]
    }
   ],
   "source": [
    "# This section does the split between train/test/dev for the parallel corpora then saves them as separate files\n",
    "# We use 1000 dev test and 1000 test set. In practice, it's useful to use an external test set\n",
    "\n",
    "# Do the split between dev/test/train and create parallel corpora\n",
    "num_dev_patterns = 1000\n",
    "num_test_patterns = 1000\n",
    "\n",
    "# Lower case the corpora\n",
    "df_pp[\"source_sentence\"] = df_pp[\"source_sentence\"].str.lower()\n",
    "df_pp[\"target_sentence\"] = df_pp[\"target_sentence\"].str.lower()\n",
    "\n",
    "devtest = df_pp.tail(num_dev_patterns + num_test_patterns)\n",
    "test = devtest.tail(num_test_patterns) # Herman\n",
    "dev = devtest.head(num_dev_patterns)  # Herman: Error in original\n",
    "stripped = df_pp.drop(df_pp.tail(num_dev_patterns + num_test_patterns).index)\n",
    "\n",
    "stripped[[\"source_sentence\"]].to_csv(\"train.\"+source_language, index=False, header=False)  # Herman: Added `header=False` everywhere\n",
    "stripped[[\"target_sentence\"]].to_csv(\"train.\"+target_language, index=False, header=False)\n",
    "\n",
    "dev[[\"source_sentence\"]].to_csv(\"dev.\"+source_language, index=False, header=False)\n",
    "dev[[\"target_sentence\"]].to_csv(\"dev.\"+target_language, index=False, header=False)\n",
    "\n",
    "test[[\"source_sentence\"]].to_csv(\"test.\"+source_language, index=False, header=False)\n",
    "test[[\"target_sentence\"]].to_csv(\"test.\"+target_language, index=False, header=False)"
   ]
  },
  {
   "cell_type": "markdown",
   "metadata": {
    "colab_type": "text",
    "id": "epeCydmCyS8X"
   },
   "source": [
    "\n",
    "\n",
    "---\n",
    "\n",
    "\n",
    "## Installation of JoeyNMT\n",
    "\n",
    "JoeyNMT is a simple, minimalist NMT package which is useful for learning and teaching. Check out the documentation for JoeyNMT [here](https://joeynmt.readthedocs.io)  "
   ]
  },
  {
   "cell_type": "code",
   "execution_count": 5,
   "metadata": {
    "colab": {
     "base_uri": "https://localhost:8080/",
     "height": 1000
    },
    "colab_type": "code",
    "id": "iBRMm4kMxZ8L",
    "outputId": "35113469-06df-4dd2-ec5b-15b1bff492df"
   },
   "outputs": [
    {
     "name": "stdout",
     "output_type": "stream",
     "text": [
      "Processing /home/vima/dev/masakhane-mt-en-ts/notebooks/joeynmt\n",
      "Requirement already satisfied: future in /home/vima/anaconda3/lib/python3.7/site-packages (from joeynmt==0.0.1) (0.17.1)\n",
      "Requirement already satisfied: pillow in /home/vima/anaconda3/lib/python3.7/site-packages (from joeynmt==0.0.1) (6.2.0)\n",
      "Requirement already satisfied: numpy<2.0,>=1.14.5 in /home/vima/anaconda3/lib/python3.7/site-packages (from joeynmt==0.0.1) (1.17.2)\n",
      "Requirement already satisfied: setuptools>=41.0.0 in /home/vima/anaconda3/lib/python3.7/site-packages (from joeynmt==0.0.1) (41.4.0)\n",
      "Collecting torch>=1.1 (from joeynmt==0.0.1)\n",
      "\u001b[?25l  Downloading https://files.pythonhosted.org/packages/b4/0b/9d33aef363b6728ad937643d98be713c6c25d50ce338678ad57cee6e6fd5/torch-1.3.0-cp37-cp37m-manylinux1_x86_64.whl (773.1MB)\n",
      "\u001b[K     |████████████████████████████████| 773.1MB 146kB/s  eta 0:00:01\n",
      "\u001b[?25hRequirement already satisfied: tensorflow>=1.14 in /home/vima/anaconda3/lib/python3.7/site-packages (from joeynmt==0.0.1) (1.14.0)\n",
      "Collecting torchtext (from joeynmt==0.0.1)\n",
      "  Using cached https://files.pythonhosted.org/packages/43/94/929d6bd236a4fb5c435982a7eb9730b78dcd8659acf328fd2ef9de85f483/torchtext-0.4.0-py3-none-any.whl\n",
      "Collecting sacrebleu>=1.3.6 (from joeynmt==0.0.1)\n",
      "  Using cached https://files.pythonhosted.org/packages/0e/e5/93d252182f7cbd4b59bb3ec5797e2ce33cfd6f5aadaf327db170cf4b7887/sacrebleu-1.4.2-py3-none-any.whl\n",
      "Collecting subword-nmt (from joeynmt==0.0.1)\n",
      "  Using cached https://files.pythonhosted.org/packages/26/08/58267cb3ac00f5f895457777ed9e0d106dbb5e6388fa7923d8663b04b849/subword_nmt-0.3.6-py2.py3-none-any.whl\n",
      "Requirement already satisfied: matplotlib in /home/vima/anaconda3/lib/python3.7/site-packages (from joeynmt==0.0.1) (3.1.1)\n",
      "Requirement already satisfied: seaborn in /home/vima/anaconda3/lib/python3.7/site-packages (from joeynmt==0.0.1) (0.9.0)\n",
      "Requirement already satisfied: pyyaml>=5.1 in /home/vima/anaconda3/lib/python3.7/site-packages (from joeynmt==0.0.1) (5.1.2)\n",
      "Requirement already satisfied: pylint in /home/vima/anaconda3/lib/python3.7/site-packages (from joeynmt==0.0.1) (2.4.2)\n",
      "Requirement already satisfied: six>=1.12 in /home/vima/anaconda3/lib/python3.7/site-packages (from joeynmt==0.0.1) (1.12.0)\n",
      "Requirement already satisfied: tensorboard<1.15.0,>=1.14.0 in /home/vima/anaconda3/lib/python3.7/site-packages (from tensorflow>=1.14->joeynmt==0.0.1) (1.14.0)\n",
      "Requirement already satisfied: astor>=0.6.0 in /home/vima/anaconda3/lib/python3.7/site-packages (from tensorflow>=1.14->joeynmt==0.0.1) (0.8.0)\n",
      "Requirement already satisfied: wrapt>=1.11.1 in /home/vima/anaconda3/lib/python3.7/site-packages (from tensorflow>=1.14->joeynmt==0.0.1) (1.11.2)\n",
      "Requirement already satisfied: gast>=0.2.0 in /home/vima/anaconda3/lib/python3.7/site-packages (from tensorflow>=1.14->joeynmt==0.0.1) (0.3.2)\n",
      "Requirement already satisfied: absl-py>=0.7.0 in /home/vima/anaconda3/lib/python3.7/site-packages (from tensorflow>=1.14->joeynmt==0.0.1) (0.8.0)\n",
      "Requirement already satisfied: keras-applications>=1.0.6 in /home/vima/anaconda3/lib/python3.7/site-packages (from tensorflow>=1.14->joeynmt==0.0.1) (1.0.8)\n",
      "Requirement already satisfied: protobuf>=3.6.1 in /home/vima/anaconda3/lib/python3.7/site-packages (from tensorflow>=1.14->joeynmt==0.0.1) (3.9.2)\n",
      "Requirement already satisfied: grpcio>=1.8.6 in /home/vima/anaconda3/lib/python3.7/site-packages (from tensorflow>=1.14->joeynmt==0.0.1) (1.16.1)\n",
      "Requirement already satisfied: wheel>=0.26 in /home/vima/anaconda3/lib/python3.7/site-packages (from tensorflow>=1.14->joeynmt==0.0.1) (0.33.6)\n",
      "Requirement already satisfied: google-pasta>=0.1.6 in /home/vima/anaconda3/lib/python3.7/site-packages (from tensorflow>=1.14->joeynmt==0.0.1) (0.1.7)\n",
      "Requirement already satisfied: termcolor>=1.1.0 in /home/vima/anaconda3/lib/python3.7/site-packages (from tensorflow>=1.14->joeynmt==0.0.1) (1.1.0)\n",
      "Requirement already satisfied: tensorflow-estimator<1.15.0rc0,>=1.14.0rc0 in /home/vima/anaconda3/lib/python3.7/site-packages (from tensorflow>=1.14->joeynmt==0.0.1) (1.14.0)\n",
      "Requirement already satisfied: keras-preprocessing>=1.0.5 in /home/vima/anaconda3/lib/python3.7/site-packages (from tensorflow>=1.14->joeynmt==0.0.1) (1.1.0)\n",
      "Requirement already satisfied: tqdm in /home/vima/anaconda3/lib/python3.7/site-packages (from torchtext->joeynmt==0.0.1) (4.36.1)\n",
      "Requirement already satisfied: requests in /home/vima/anaconda3/lib/python3.7/site-packages (from torchtext->joeynmt==0.0.1) (2.21.0)\n",
      "Collecting portalocker (from sacrebleu>=1.3.6->joeynmt==0.0.1)\n",
      "  Using cached https://files.pythonhosted.org/packages/60/ec/836a494dbaa72541f691ec4e66f29fdc8db9bcc7f49e1c2d457ba13ced42/portalocker-1.5.1-py2.py3-none-any.whl\n",
      "Collecting typing (from sacrebleu>=1.3.6->joeynmt==0.0.1)\n",
      "  Using cached https://files.pythonhosted.org/packages/fe/2e/b480ee1b75e6d17d2993738670e75c1feeb9ff7f64452153cf018051cc92/typing-3.7.4.1-py3-none-any.whl\n",
      "Requirement already satisfied: cycler>=0.10 in /home/vima/anaconda3/lib/python3.7/site-packages (from matplotlib->joeynmt==0.0.1) (0.10.0)\n",
      "Requirement already satisfied: kiwisolver>=1.0.1 in /home/vima/anaconda3/lib/python3.7/site-packages (from matplotlib->joeynmt==0.0.1) (1.1.0)\n",
      "Requirement already satisfied: pyparsing!=2.0.4,!=2.1.2,!=2.1.6,>=2.0.1 in /home/vima/anaconda3/lib/python3.7/site-packages (from matplotlib->joeynmt==0.0.1) (2.4.2)\n",
      "Requirement already satisfied: python-dateutil>=2.1 in /home/vima/anaconda3/lib/python3.7/site-packages (from matplotlib->joeynmt==0.0.1) (2.8.0)\n",
      "Requirement already satisfied: scipy>=0.14.0 in /home/vima/anaconda3/lib/python3.7/site-packages (from seaborn->joeynmt==0.0.1) (1.3.1)\n",
      "Requirement already satisfied: pandas>=0.15.2 in /home/vima/anaconda3/lib/python3.7/site-packages (from seaborn->joeynmt==0.0.1) (0.25.1)\n",
      "Requirement already satisfied: astroid<2.4,>=2.3.0 in /home/vima/anaconda3/lib/python3.7/site-packages (from pylint->joeynmt==0.0.1) (2.3.1)\n",
      "Requirement already satisfied: mccabe<0.7,>=0.6 in /home/vima/anaconda3/lib/python3.7/site-packages (from pylint->joeynmt==0.0.1) (0.6.1)\n",
      "Requirement already satisfied: isort<5,>=4.2.5 in /home/vima/anaconda3/lib/python3.7/site-packages (from pylint->joeynmt==0.0.1) (4.3.21)\n",
      "Requirement already satisfied: werkzeug>=0.11.15 in /home/vima/anaconda3/lib/python3.7/site-packages (from tensorboard<1.15.0,>=1.14.0->tensorflow>=1.14->joeynmt==0.0.1) (0.16.0)\n",
      "Requirement already satisfied: markdown>=2.6.8 in /home/vima/anaconda3/lib/python3.7/site-packages (from tensorboard<1.15.0,>=1.14.0->tensorflow>=1.14->joeynmt==0.0.1) (3.1.1)\n",
      "Requirement already satisfied: h5py in /home/vima/anaconda3/lib/python3.7/site-packages (from keras-applications>=1.0.6->tensorflow>=1.14->joeynmt==0.0.1) (2.9.0)\n",
      "Requirement already satisfied: chardet<3.1.0,>=3.0.2 in /home/vima/anaconda3/lib/python3.7/site-packages (from requests->torchtext->joeynmt==0.0.1) (3.0.4)\n",
      "Requirement already satisfied: certifi>=2017.4.17 in /home/vima/anaconda3/lib/python3.7/site-packages (from requests->torchtext->joeynmt==0.0.1) (2019.9.11)\n",
      "Requirement already satisfied: urllib3<1.25,>=1.21.1 in /home/vima/anaconda3/lib/python3.7/site-packages (from requests->torchtext->joeynmt==0.0.1) (1.24.2)\n",
      "Requirement already satisfied: idna<2.9,>=2.5 in /home/vima/anaconda3/lib/python3.7/site-packages (from requests->torchtext->joeynmt==0.0.1) (2.8)\n",
      "Requirement already satisfied: pytz>=2017.2 in /home/vima/anaconda3/lib/python3.7/site-packages (from pandas>=0.15.2->seaborn->joeynmt==0.0.1) (2019.3)\n",
      "Requirement already satisfied: lazy-object-proxy==1.4.* in /home/vima/anaconda3/lib/python3.7/site-packages (from astroid<2.4,>=2.3.0->pylint->joeynmt==0.0.1) (1.4.2)\n",
      "Collecting typed-ast<1.5,>=1.4.0; implementation_name == \"cpython\" and python_version < \"3.8\" (from astroid<2.4,>=2.3.0->pylint->joeynmt==0.0.1)\n",
      "\u001b[?25l  Downloading https://files.pythonhosted.org/packages/fb/56/dd4e168a0009da85c78c6cfe91f5b2df2c7bbed60f3ba778c4a71289e6fb/typed_ast-1.4.0-cp37-cp37m-manylinux1_x86_64.whl (736kB)\n",
      "\u001b[K     |████████████████████████████████| 737kB 11.2MB/s eta 0:00:01\n",
      "\u001b[?25hBuilding wheels for collected packages: joeynmt\n",
      "  Building wheel for joeynmt (setup.py) ... \u001b[?25ldone\n",
      "\u001b[?25h  Created wheel for joeynmt: filename=joeynmt-0.0.1-cp37-none-any.whl size=69481 sha256=6555a97249bd574c3586861f4ebb3b6cbfc87b67174aa469493f7f10b41d3fbd\n",
      "  Stored in directory: /tmp/pip-ephem-wheel-cache-0pmkc_54/wheels/d3/9d/7e/08a731d8418991c46c52f56c4ab51f84fdfee7b24842947573\n",
      "Successfully built joeynmt\n",
      "Installing collected packages: torch, torchtext, portalocker, typing, sacrebleu, subword-nmt, joeynmt, typed-ast\n",
      "Successfully installed joeynmt-0.0.1 portalocker-1.5.1 sacrebleu-1.4.2 subword-nmt-0.3.6 torch-1.3.0 torchtext-0.4.0 typed-ast-1.4.0 typing-3.7.4.1\n"
     ]
    }
   ],
   "source": [
    "# Install JoeyNMT\n",
    "# ! git clone https://github.com/joeynmt/joeynmt.git\n",
    "! cd joeynmt; pip install ."
   ]
  },
  {
   "cell_type": "markdown",
   "metadata": {
    "colab_type": "text",
    "id": "AaE77Tcppex9"
   },
   "source": [
    "# Preprocessing the Data into Subword BPE Tokens\n",
    "\n",
    "- One of the most powerful improvements for agglutinative languages (a feature of most Bantu languages) is using BPE tokenization [ (Sennrich, 2015) ](https://arxiv.org/abs/1508.07909).\n",
    "\n",
    "- It was also shown that by optimizing the umber of BPE codes we significantly improve results for low-resourced languages [(Sennrich, 2019)](https://www.aclweb.org/anthology/P19-1021) [(Martinus, 2019)](https://arxiv.org/abs/1906.05685)\n",
    "\n",
    "- Below we have the scripts for doing BPE tokenization of our data. We use 4000 tokens as recommended by [(Sennrich, 2019)](https://www.aclweb.org/anthology/P19-1021). You do not need to change anything. Simply running the below will be suitable. "
   ]
  },
  {
   "cell_type": "code",
   "execution_count": 6,
   "metadata": {
    "colab": {
     "base_uri": "https://localhost:8080/",
     "height": 423
    },
    "colab_type": "code",
    "id": "H-TyjtmXB1mL",
    "outputId": "55f26548-aff7-40cf-dcbf-14065b36d360"
   },
   "outputs": [
    {
     "name": "stdout",
     "output_type": "stream",
     "text": [
      "bpe.codes.4000\tdev.en\t     test.bpe.ts  train.bpe.en\ttrain.ts\n",
      "dev.bpe.en\tdev.ts\t     test.en\t  train.bpe.ts\n",
      "dev.bpe.ts\ttest.bpe.en  test.ts\t  train.en\n",
      "cp: target '' is not a directory\n",
      "cp: target '' is not a directory\n",
      "cp: target '' is not a directory\n",
      "cp: cannot create regular file '': No such file or directory\n",
      "ls: cannot access '': No such file or directory\n",
      "[sudo] password for vima: \n",
      "/bin/sh: 1: joeynmt/scripts/build_vocab.py: Permission denied\n",
      "BPE Xhosa Sentences\n",
      "\"\n",
      "\"hilaha ku fanaka , loko vuprofeta bya ezeki@@ yele byi sungula ku hetiseka enkarhini wa hina , eku sunguleni a byi komb@@ etela eka lava nga ni ntshembo wo hanya etilweni .\n",
      "\"\n",
      "\"hambileswi tinyi@@ mba ta khume ta israyele hi ntolovelo ti nga fanek@@ is@@ el@@ iki lava nga ta hanya hilaha ku nga heriki laha misaveni , vun’we lebyi ku vulavu@@ riwaka ha byona eka vuprofeta lebyi byi hi tsundzuxa vun’we lebyi nga kona exikarhi ka lava nga ta hanya laha misaveni ni lava totiweke .\n",
      "\"\n",
      "Combined BPE Vocab\n",
      "tail: cannot open 'joeynmt/data/ents/vocab.txt' for reading: No such file or directory\n"
     ]
    }
   ],
   "source": [
    "# One of the huge boosts in NMT performance was to use a different method of tokenizing. \n",
    "# Usually, NMT would tokenize by words. However, using a method called BPE gave amazing boosts to performance\n",
    "\n",
    "# Do subword NMT\n",
    "from os import path\n",
    "\n",
    "os.environ[\"data_path\"] = path.join(\"joeynmt\", \"data\", source_language + target_language) # Herman! \n",
    "! subword-nmt learn-joint-bpe-and-vocab --input train.$src train.$tgt -s 4000 -o bpe.codes.4000 --write-vocabulary vocab.$src vocab.$tgt\n",
    "\n",
    "! subword-nmt apply-bpe -c bpe.codes.4000 --vocabulary vocab.$src < train.$src > train.bpe.$src\n",
    "! subword-nmt apply-bpe -c bpe.codes.4000 --vocabulary vocab.$tgt < train.$tgt > train.bpe.$tgt\n",
    "\n",
    "! subword-nmt apply-bpe -c bpe.codes.4000 --vocabulary vocab.$src < dev.$src > dev.bpe.$src\n",
    "! subword-nmt apply-bpe -c bpe.codes.4000 --vocabulary vocab.$tgt < dev.$tgt > dev.bpe.$tgt\n",
    "! subword-nmt apply-bpe -c bpe.codes.4000 --vocabulary vocab.$src < test.$src > test.bpe.$src\n",
    "! subword-nmt apply-bpe -c bpe.codes.4000 --vocabulary vocab.$tgt < test.$tgt > test.bpe.$tgt\n",
    "\n",
    "# Create directory, move everyone we care about to the correct location\n",
    "! mkdir -p $data_path\n",
    "! cp train.* $data_path\n",
    "! cp test.* $data_path\n",
    "! cp dev.* $data_path\n",
    "! cp bpe.codes.4000 $data_path\n",
    "! ls $data_path\n",
    "\n",
    "# Also move everything we care about to a mounted location in google drive (relevant if running in colab) at gdrive_path\n",
    "# ! cp train.* \"$gdrive_path\"\n",
    "# ! cp test.* \"$gdrive_path\"\n",
    "# ! cp dev.* \"$gdrive_path\"\n",
    "# ! cp bpe.codes.4000 \"$gdrive_path\"\n",
    "# ! ls \"$gdrive_path\"\n",
    "\n",
    "# Create that vocab using build_vocab\n",
    "! chmod 777 joeynmt/scripts/build_vocab.py\n",
    "! joeynmt/scripts/build_vocab.py joeynmt/data/$src$tgt/train.bpe.$src joeynmt/data/$src$tgt/train.bpe.$tgt --output_path joeynmt/data/$src$tgt/vocab.txt\n",
    "\n",
    "# Some output\n",
    "! echo \"BPE Xhosa Sentences\"\n",
    "! tail -n 5 test.bpe.$tgt\n",
    "! echo \"Combined BPE Vocab\"\n",
    "! tail -n 10 joeynmt/data/$src$tgt/vocab.txt  # Herman"
   ]
  },
  {
   "cell_type": "code",
   "execution_count": 6,
   "metadata": {},
   "outputs": [
    {
     "name": "stdout",
     "output_type": "stream",
     "text": [
      "BPE Xhosa Sentences\n",
      "\"\n",
      "\"hilaha ku fanaka , loko vuprofeta bya ezeki@@ yele byi sungula ku hetiseka enkarhini wa hina , eku sunguleni a byi komb@@ etela eka lava nga ni ntshembo wo hanya etilweni .\n",
      "\"\n",
      "\"hambileswi tinyi@@ mba ta khume ta israyele hi ntolovelo ti nga fanek@@ is@@ el@@ iki lava nga ta hanya hilaha ku nga heriki laha misaveni , vun’we lebyi ku vulavu@@ riwaka ha byona eka vuprofeta lebyi byi hi tsundzuxa vun’we lebyi nga kona exikarhi ka lava nga ta hanya laha misaveni ni lava totiweke .\n",
      "\"\n",
      "Combined BPE Vocab\n",
      "mianakan@@\n",
      ";@@\n",
      "̭@@\n",
      "diyavulo@@\n",
      "̱\n",
      "ά@@\n",
      "howe@@\n",
      "ĕ@@\n",
      "inst\n",
      "õ@@\n"
     ]
    }
   ],
   "source": [
    "! chmod 777 joeynmt/scripts/build_vocab.py\n",
    "! joeynmt/scripts/build_vocab.py joeynmt/data/$src$tgt/train.bpe.$src joeynmt/data/$src$tgt/train.bpe.$tgt --output_path joeynmt/data/$src$tgt/vocab.txt\n",
    "\n",
    "! echo \"BPE Xhosa Sentences\"\n",
    "! tail -n 5 test.bpe.$tgt\n",
    "! echo \"Combined BPE Vocab\"\n",
    "! tail -n 10 joeynmt/data/$src$tgt/vocab.txt  # Herman"
   ]
  },
  {
   "cell_type": "code",
   "execution_count": 7,
   "metadata": {
    "colab": {
     "base_uri": "https://localhost:8080/",
     "height": 67
    },
    "colab_type": "code",
    "id": "IlMitUHR8Qy-",
    "outputId": "263df69a-6ace-4060-b103-41e0eff2926f"
   },
   "outputs": [],
   "source": [
    "# Also move everything we care about to a mounted location in google drive (relevant if running in colab) at gdrive_path\n",
    "# ! cp train.* \"$gdrive_path\"\n",
    "# ! cp test.* \"$gdrive_path\"\n",
    "# ! cp dev.* \"$gdrive_path\"\n",
    "# ! cp bpe.codes.4000 \"$gdrive_path\"\n",
    "# ! ls \"$gdrive_path\""
   ]
  },
  {
   "cell_type": "markdown",
   "metadata": {
    "colab_type": "text",
    "id": "Ixmzi60WsUZ8"
   },
   "source": [
    "# Creating the JoeyNMT Config\n",
    "\n",
    "JoeyNMT requires a yaml config. We provide a template below. We've also set a number of defaults with it, that you may play with!\n",
    "\n",
    "- We used Transformer architecture \n",
    "- We set our dropout to reasonably high: 0.3 (recommended in  [(Sennrich, 2019)](https://www.aclweb.org/anthology/P19-1021))\n",
    "\n",
    "Things worth playing with:\n",
    "- The batch size (also recommended to change for low-resourced languages)\n",
    "- The number of epochs (we've set it at 30 just so it runs in about an hour, for testing purposes)\n",
    "- The decoder options (beam_size, alpha)\n",
    "- Evaluation metrics (BLEU versus Crhf4)"
   ]
  },
  {
   "cell_type": "code",
   "execution_count": 8,
   "metadata": {
    "colab": {},
    "colab_type": "code",
    "id": "PIs1lY2hxMsl"
   },
   "outputs": [],
   "source": [
    "# This creates the config file for our JoeyNMT system. It might seem overwhelming so we've provided a couple of useful parameters you'll need to update\n",
    "# (You can of course play with all the parameters if you'd like!)\n",
    "\n",
    "name = '%s%s' % (source_language, target_language)\n",
    "# gdrive_path = os.environ[\"gdrive_path\"]\n",
    "\n",
    "# Create the config\n",
    "config = \"\"\"\n",
    "name: \"{name}_transformer\"\n",
    "\n",
    "data:\n",
    "    src: \"{source_language}\"\n",
    "    trg: \"{target_language}\"\n",
    "    train: \"data/{name}/train.bpe\"\n",
    "    dev:   \"data/{name}/dev.bpe\"\n",
    "    test:  \"data/{name}/test.bpe\"\n",
    "    level: \"bpe\"\n",
    "    lowercase: False\n",
    "    max_sent_length: 100\n",
    "    src_vocab: \"data/{name}/vocab.txt\"\n",
    "    trg_vocab: \"data/{name}/vocab.txt\"\n",
    "\n",
    "testing:\n",
    "    beam_size: 5\n",
    "    alpha: 1.0\n",
    "\n",
    "training:\n",
    "    random_seed: 42\n",
    "    optimizer: \"adam\"\n",
    "    normalization: \"tokens\"\n",
    "    adam_betas: [0.9, 0.999] \n",
    "    scheduling: \"noam\"            # Try switching from plateau to Noam scheduling\n",
    "    learning_rate_factor: 0.5       # factor for Noam scheduler (used with Transformer)\n",
    "    learning_rate_warmup: 1000      # warmup steps for Noam scheduler (used with Transformer)\n",
    "    patience: 8\n",
    "    decrease_factor: 0.7\n",
    "    loss: \"crossentropy\"\n",
    "    learning_rate: 0.0002\n",
    "    learning_rate_min: 0.00000001\n",
    "    weight_decay: 0.0\n",
    "    label_smoothing: 0.1\n",
    "    batch_size: 4096\n",
    "    batch_type: \"token\"\n",
    "    eval_batch_size: 3600\n",
    "    eval_batch_type: \"token\"\n",
    "    batch_multiplier: 1\n",
    "    early_stopping_metric: \"ppl\"\n",
    "    epochs: 30 # TODO: Decrease for when playing around and checking of working. Around 30 is sufficient to check if its working at all\n",
    "    validation_freq: 4000 # Decrease this for testing\n",
    "    logging_freq: 100\n",
    "    eval_metric: \"bleu\"\n",
    "    model_dir: \"models/{name}_transformer\"\n",
    "    overwrite: True\n",
    "    shuffle: True\n",
    "    use_cuda: True\n",
    "    max_output_length: 100\n",
    "    print_valid_sents: [0, 1, 2, 3]\n",
    "    keep_last_ckpts: 3\n",
    "\n",
    "model:\n",
    "    initializer: \"xavier\"\n",
    "    bias_initializer: \"zeros\"\n",
    "    init_gain: 1.0\n",
    "    embed_initializer: \"xavier\"\n",
    "    embed_init_gain: 1.0\n",
    "    tied_embeddings: True\n",
    "    tied_softmax: True\n",
    "    encoder:\n",
    "        type: \"transformer\"\n",
    "        num_layers: 6\n",
    "        num_heads: 8\n",
    "        embeddings:\n",
    "            embedding_dim: 512\n",
    "            scale: True\n",
    "            dropout: 0.\n",
    "        # typically ff_size = 4 x hidden_size\n",
    "        hidden_size: 512\n",
    "        ff_size: 2048\n",
    "        dropout: 0.3\n",
    "    decoder:\n",
    "        type: \"transformer\"\n",
    "        num_layers: 6\n",
    "        num_heads: 8\n",
    "        embeddings:\n",
    "            embedding_dim: 512\n",
    "            scale: True\n",
    "            dropout: 0.\n",
    "        # typically ff_size = 4 x hidden_size\n",
    "        hidden_size: 512\n",
    "        ff_size: 2048\n",
    "        dropout: 0.3\n",
    "\"\"\".format(name=name, source_language=source_language, target_language=target_language)\n",
    "with open(\"joeynmt/configs/transformer_{name}.yaml\".format(name=name),'w') as f:\n",
    "    f.write(config)"
   ]
  },
  {
   "cell_type": "markdown",
   "metadata": {
    "colab_type": "text",
    "id": "pIifxE3Qzuvs"
   },
   "source": [
    "# Train the Model\n",
    "\n",
    "This single line of joeynmt runs the training using the config we made above"
   ]
  },
  {
   "cell_type": "code",
   "execution_count": 9,
   "metadata": {},
   "outputs": [
    {
     "name": "stdout",
     "output_type": "stream",
     "text": [
      "/home/vima/dev/masakhane-mt-en-ts/experiment/joeynmt\n"
     ]
    }
   ],
   "source": [
    "cd joeynmt/"
   ]
  },
  {
   "cell_type": "code",
   "execution_count": null,
   "metadata": {
    "colab": {
     "base_uri": "https://localhost:8080/",
     "height": 1000
    },
    "colab_type": "code",
    "id": "_3wmpRR5yBCP",
    "outputId": "576de9b4-a04e-430f-8537-584d2796d454"
   },
   "outputs": [
    {
     "name": "stdout",
     "output_type": "stream",
     "text": [
      "/home/vima/anaconda3/lib/python3.7/site-packages/tensorboard/compat/tensorflow_stub/dtypes.py:541: FutureWarning: Passing (type, 1) or '1type' as a synonym of type is deprecated; in a future version of numpy, it will be understood as (type, (1,)) / '(1,)type'.\n",
      "  _np_qint8 = np.dtype([(\"qint8\", np.int8, 1)])\n",
      "/home/vima/anaconda3/lib/python3.7/site-packages/tensorboard/compat/tensorflow_stub/dtypes.py:542: FutureWarning: Passing (type, 1) or '1type' as a synonym of type is deprecated; in a future version of numpy, it will be understood as (type, (1,)) / '(1,)type'.\n",
      "  _np_quint8 = np.dtype([(\"quint8\", np.uint8, 1)])\n",
      "/home/vima/anaconda3/lib/python3.7/site-packages/tensorboard/compat/tensorflow_stub/dtypes.py:543: FutureWarning: Passing (type, 1) or '1type' as a synonym of type is deprecated; in a future version of numpy, it will be understood as (type, (1,)) / '(1,)type'.\n",
      "  _np_qint16 = np.dtype([(\"qint16\", np.int16, 1)])\n",
      "/home/vima/anaconda3/lib/python3.7/site-packages/tensorboard/compat/tensorflow_stub/dtypes.py:544: FutureWarning: Passing (type, 1) or '1type' as a synonym of type is deprecated; in a future version of numpy, it will be understood as (type, (1,)) / '(1,)type'.\n",
      "  _np_quint16 = np.dtype([(\"quint16\", np.uint16, 1)])\n",
      "/home/vima/anaconda3/lib/python3.7/site-packages/tensorboard/compat/tensorflow_stub/dtypes.py:545: FutureWarning: Passing (type, 1) or '1type' as a synonym of type is deprecated; in a future version of numpy, it will be understood as (type, (1,)) / '(1,)type'.\n",
      "  _np_qint32 = np.dtype([(\"qint32\", np.int32, 1)])\n",
      "/home/vima/anaconda3/lib/python3.7/site-packages/tensorboard/compat/tensorflow_stub/dtypes.py:550: FutureWarning: Passing (type, 1) or '1type' as a synonym of type is deprecated; in a future version of numpy, it will be understood as (type, (1,)) / '(1,)type'.\n",
      "  np_resource = np.dtype([(\"resource\", np.ubyte, 1)])\n",
      "2019-10-20 06:36:09,358 Hello! This is Joey-NMT.\n",
      "2019-10-20 06:36:09,361 Total params: 46371328\n",
      "2019-10-20 06:36:09,362 Trainable parameters: ['decoder.layer_norm.bias', 'decoder.layer_norm.weight', 'decoder.layers.0.dec_layer_norm.bias', 'decoder.layers.0.dec_layer_norm.weight', 'decoder.layers.0.feed_forward.layer_norm.bias', 'decoder.layers.0.feed_forward.layer_norm.weight', 'decoder.layers.0.feed_forward.pwff_layer.0.bias', 'decoder.layers.0.feed_forward.pwff_layer.0.weight', 'decoder.layers.0.feed_forward.pwff_layer.3.bias', 'decoder.layers.0.feed_forward.pwff_layer.3.weight', 'decoder.layers.0.src_trg_att.k_layer.bias', 'decoder.layers.0.src_trg_att.k_layer.weight', 'decoder.layers.0.src_trg_att.output_layer.bias', 'decoder.layers.0.src_trg_att.output_layer.weight', 'decoder.layers.0.src_trg_att.q_layer.bias', 'decoder.layers.0.src_trg_att.q_layer.weight', 'decoder.layers.0.src_trg_att.v_layer.bias', 'decoder.layers.0.src_trg_att.v_layer.weight', 'decoder.layers.0.trg_trg_att.k_layer.bias', 'decoder.layers.0.trg_trg_att.k_layer.weight', 'decoder.layers.0.trg_trg_att.output_layer.bias', 'decoder.layers.0.trg_trg_att.output_layer.weight', 'decoder.layers.0.trg_trg_att.q_layer.bias', 'decoder.layers.0.trg_trg_att.q_layer.weight', 'decoder.layers.0.trg_trg_att.v_layer.bias', 'decoder.layers.0.trg_trg_att.v_layer.weight', 'decoder.layers.0.x_layer_norm.bias', 'decoder.layers.0.x_layer_norm.weight', 'decoder.layers.1.dec_layer_norm.bias', 'decoder.layers.1.dec_layer_norm.weight', 'decoder.layers.1.feed_forward.layer_norm.bias', 'decoder.layers.1.feed_forward.layer_norm.weight', 'decoder.layers.1.feed_forward.pwff_layer.0.bias', 'decoder.layers.1.feed_forward.pwff_layer.0.weight', 'decoder.layers.1.feed_forward.pwff_layer.3.bias', 'decoder.layers.1.feed_forward.pwff_layer.3.weight', 'decoder.layers.1.src_trg_att.k_layer.bias', 'decoder.layers.1.src_trg_att.k_layer.weight', 'decoder.layers.1.src_trg_att.output_layer.bias', 'decoder.layers.1.src_trg_att.output_layer.weight', 'decoder.layers.1.src_trg_att.q_layer.bias', 'decoder.layers.1.src_trg_att.q_layer.weight', 'decoder.layers.1.src_trg_att.v_layer.bias', 'decoder.layers.1.src_trg_att.v_layer.weight', 'decoder.layers.1.trg_trg_att.k_layer.bias', 'decoder.layers.1.trg_trg_att.k_layer.weight', 'decoder.layers.1.trg_trg_att.output_layer.bias', 'decoder.layers.1.trg_trg_att.output_layer.weight', 'decoder.layers.1.trg_trg_att.q_layer.bias', 'decoder.layers.1.trg_trg_att.q_layer.weight', 'decoder.layers.1.trg_trg_att.v_layer.bias', 'decoder.layers.1.trg_trg_att.v_layer.weight', 'decoder.layers.1.x_layer_norm.bias', 'decoder.layers.1.x_layer_norm.weight', 'decoder.layers.2.dec_layer_norm.bias', 'decoder.layers.2.dec_layer_norm.weight', 'decoder.layers.2.feed_forward.layer_norm.bias', 'decoder.layers.2.feed_forward.layer_norm.weight', 'decoder.layers.2.feed_forward.pwff_layer.0.bias', 'decoder.layers.2.feed_forward.pwff_layer.0.weight', 'decoder.layers.2.feed_forward.pwff_layer.3.bias', 'decoder.layers.2.feed_forward.pwff_layer.3.weight', 'decoder.layers.2.src_trg_att.k_layer.bias', 'decoder.layers.2.src_trg_att.k_layer.weight', 'decoder.layers.2.src_trg_att.output_layer.bias', 'decoder.layers.2.src_trg_att.output_layer.weight', 'decoder.layers.2.src_trg_att.q_layer.bias', 'decoder.layers.2.src_trg_att.q_layer.weight', 'decoder.layers.2.src_trg_att.v_layer.bias', 'decoder.layers.2.src_trg_att.v_layer.weight', 'decoder.layers.2.trg_trg_att.k_layer.bias', 'decoder.layers.2.trg_trg_att.k_layer.weight', 'decoder.layers.2.trg_trg_att.output_layer.bias', 'decoder.layers.2.trg_trg_att.output_layer.weight', 'decoder.layers.2.trg_trg_att.q_layer.bias', 'decoder.layers.2.trg_trg_att.q_layer.weight', 'decoder.layers.2.trg_trg_att.v_layer.bias', 'decoder.layers.2.trg_trg_att.v_layer.weight', 'decoder.layers.2.x_layer_norm.bias', 'decoder.layers.2.x_layer_norm.weight', 'decoder.layers.3.dec_layer_norm.bias', 'decoder.layers.3.dec_layer_norm.weight', 'decoder.layers.3.feed_forward.layer_norm.bias', 'decoder.layers.3.feed_forward.layer_norm.weight', 'decoder.layers.3.feed_forward.pwff_layer.0.bias', 'decoder.layers.3.feed_forward.pwff_layer.0.weight', 'decoder.layers.3.feed_forward.pwff_layer.3.bias', 'decoder.layers.3.feed_forward.pwff_layer.3.weight', 'decoder.layers.3.src_trg_att.k_layer.bias', 'decoder.layers.3.src_trg_att.k_layer.weight', 'decoder.layers.3.src_trg_att.output_layer.bias', 'decoder.layers.3.src_trg_att.output_layer.weight', 'decoder.layers.3.src_trg_att.q_layer.bias', 'decoder.layers.3.src_trg_att.q_layer.weight', 'decoder.layers.3.src_trg_att.v_layer.bias', 'decoder.layers.3.src_trg_att.v_layer.weight', 'decoder.layers.3.trg_trg_att.k_layer.bias', 'decoder.layers.3.trg_trg_att.k_layer.weight', 'decoder.layers.3.trg_trg_att.output_layer.bias', 'decoder.layers.3.trg_trg_att.output_layer.weight', 'decoder.layers.3.trg_trg_att.q_layer.bias', 'decoder.layers.3.trg_trg_att.q_layer.weight', 'decoder.layers.3.trg_trg_att.v_layer.bias', 'decoder.layers.3.trg_trg_att.v_layer.weight', 'decoder.layers.3.x_layer_norm.bias', 'decoder.layers.3.x_layer_norm.weight', 'decoder.layers.4.dec_layer_norm.bias', 'decoder.layers.4.dec_layer_norm.weight', 'decoder.layers.4.feed_forward.layer_norm.bias', 'decoder.layers.4.feed_forward.layer_norm.weight', 'decoder.layers.4.feed_forward.pwff_layer.0.bias', 'decoder.layers.4.feed_forward.pwff_layer.0.weight', 'decoder.layers.4.feed_forward.pwff_layer.3.bias', 'decoder.layers.4.feed_forward.pwff_layer.3.weight', 'decoder.layers.4.src_trg_att.k_layer.bias', 'decoder.layers.4.src_trg_att.k_layer.weight', 'decoder.layers.4.src_trg_att.output_layer.bias', 'decoder.layers.4.src_trg_att.output_layer.weight', 'decoder.layers.4.src_trg_att.q_layer.bias', 'decoder.layers.4.src_trg_att.q_layer.weight', 'decoder.layers.4.src_trg_att.v_layer.bias', 'decoder.layers.4.src_trg_att.v_layer.weight', 'decoder.layers.4.trg_trg_att.k_layer.bias', 'decoder.layers.4.trg_trg_att.k_layer.weight', 'decoder.layers.4.trg_trg_att.output_layer.bias', 'decoder.layers.4.trg_trg_att.output_layer.weight', 'decoder.layers.4.trg_trg_att.q_layer.bias', 'decoder.layers.4.trg_trg_att.q_layer.weight', 'decoder.layers.4.trg_trg_att.v_layer.bias', 'decoder.layers.4.trg_trg_att.v_layer.weight', 'decoder.layers.4.x_layer_norm.bias', 'decoder.layers.4.x_layer_norm.weight', 'decoder.layers.5.dec_layer_norm.bias', 'decoder.layers.5.dec_layer_norm.weight', 'decoder.layers.5.feed_forward.layer_norm.bias', 'decoder.layers.5.feed_forward.layer_norm.weight', 'decoder.layers.5.feed_forward.pwff_layer.0.bias', 'decoder.layers.5.feed_forward.pwff_layer.0.weight', 'decoder.layers.5.feed_forward.pwff_layer.3.bias', 'decoder.layers.5.feed_forward.pwff_layer.3.weight', 'decoder.layers.5.src_trg_att.k_layer.bias', 'decoder.layers.5.src_trg_att.k_layer.weight', 'decoder.layers.5.src_trg_att.output_layer.bias', 'decoder.layers.5.src_trg_att.output_layer.weight', 'decoder.layers.5.src_trg_att.q_layer.bias', 'decoder.layers.5.src_trg_att.q_layer.weight', 'decoder.layers.5.src_trg_att.v_layer.bias', 'decoder.layers.5.src_trg_att.v_layer.weight', 'decoder.layers.5.trg_trg_att.k_layer.bias', 'decoder.layers.5.trg_trg_att.k_layer.weight', 'decoder.layers.5.trg_trg_att.output_layer.bias', 'decoder.layers.5.trg_trg_att.output_layer.weight', 'decoder.layers.5.trg_trg_att.q_layer.bias', 'decoder.layers.5.trg_trg_att.q_layer.weight', 'decoder.layers.5.trg_trg_att.v_layer.bias', 'decoder.layers.5.trg_trg_att.v_layer.weight', 'decoder.layers.5.x_layer_norm.bias', 'decoder.layers.5.x_layer_norm.weight', 'encoder.layer_norm.bias', 'encoder.layer_norm.weight', 'encoder.layers.0.feed_forward.layer_norm.bias', 'encoder.layers.0.feed_forward.layer_norm.weight', 'encoder.layers.0.feed_forward.pwff_layer.0.bias', 'encoder.layers.0.feed_forward.pwff_layer.0.weight', 'encoder.layers.0.feed_forward.pwff_layer.3.bias', 'encoder.layers.0.feed_forward.pwff_layer.3.weight', 'encoder.layers.0.layer_norm.bias', 'encoder.layers.0.layer_norm.weight', 'encoder.layers.0.src_src_att.k_layer.bias', 'encoder.layers.0.src_src_att.k_layer.weight', 'encoder.layers.0.src_src_att.output_layer.bias', 'encoder.layers.0.src_src_att.output_layer.weight', 'encoder.layers.0.src_src_att.q_layer.bias', 'encoder.layers.0.src_src_att.q_layer.weight', 'encoder.layers.0.src_src_att.v_layer.bias', 'encoder.layers.0.src_src_att.v_layer.weight', 'encoder.layers.1.feed_forward.layer_norm.bias', 'encoder.layers.1.feed_forward.layer_norm.weight', 'encoder.layers.1.feed_forward.pwff_layer.0.bias', 'encoder.layers.1.feed_forward.pwff_layer.0.weight', 'encoder.layers.1.feed_forward.pwff_layer.3.bias', 'encoder.layers.1.feed_forward.pwff_layer.3.weight', 'encoder.layers.1.layer_norm.bias', 'encoder.layers.1.layer_norm.weight', 'encoder.layers.1.src_src_att.k_layer.bias', 'encoder.layers.1.src_src_att.k_layer.weight', 'encoder.layers.1.src_src_att.output_layer.bias', 'encoder.layers.1.src_src_att.output_layer.weight', 'encoder.layers.1.src_src_att.q_layer.bias', 'encoder.layers.1.src_src_att.q_layer.weight', 'encoder.layers.1.src_src_att.v_layer.bias', 'encoder.layers.1.src_src_att.v_layer.weight', 'encoder.layers.2.feed_forward.layer_norm.bias', 'encoder.layers.2.feed_forward.layer_norm.weight', 'encoder.layers.2.feed_forward.pwff_layer.0.bias', 'encoder.layers.2.feed_forward.pwff_layer.0.weight', 'encoder.layers.2.feed_forward.pwff_layer.3.bias', 'encoder.layers.2.feed_forward.pwff_layer.3.weight', 'encoder.layers.2.layer_norm.bias', 'encoder.layers.2.layer_norm.weight', 'encoder.layers.2.src_src_att.k_layer.bias', 'encoder.layers.2.src_src_att.k_layer.weight', 'encoder.layers.2.src_src_att.output_layer.bias', 'encoder.layers.2.src_src_att.output_layer.weight', 'encoder.layers.2.src_src_att.q_layer.bias', 'encoder.layers.2.src_src_att.q_layer.weight', 'encoder.layers.2.src_src_att.v_layer.bias', 'encoder.layers.2.src_src_att.v_layer.weight', 'encoder.layers.3.feed_forward.layer_norm.bias', 'encoder.layers.3.feed_forward.layer_norm.weight', 'encoder.layers.3.feed_forward.pwff_layer.0.bias', 'encoder.layers.3.feed_forward.pwff_layer.0.weight', 'encoder.layers.3.feed_forward.pwff_layer.3.bias', 'encoder.layers.3.feed_forward.pwff_layer.3.weight', 'encoder.layers.3.layer_norm.bias', 'encoder.layers.3.layer_norm.weight', 'encoder.layers.3.src_src_att.k_layer.bias', 'encoder.layers.3.src_src_att.k_layer.weight', 'encoder.layers.3.src_src_att.output_layer.bias', 'encoder.layers.3.src_src_att.output_layer.weight', 'encoder.layers.3.src_src_att.q_layer.bias', 'encoder.layers.3.src_src_att.q_layer.weight', 'encoder.layers.3.src_src_att.v_layer.bias', 'encoder.layers.3.src_src_att.v_layer.weight', 'encoder.layers.4.feed_forward.layer_norm.bias', 'encoder.layers.4.feed_forward.layer_norm.weight', 'encoder.layers.4.feed_forward.pwff_layer.0.bias', 'encoder.layers.4.feed_forward.pwff_layer.0.weight', 'encoder.layers.4.feed_forward.pwff_layer.3.bias', 'encoder.layers.4.feed_forward.pwff_layer.3.weight', 'encoder.layers.4.layer_norm.bias', 'encoder.layers.4.layer_norm.weight', 'encoder.layers.4.src_src_att.k_layer.bias', 'encoder.layers.4.src_src_att.k_layer.weight', 'encoder.layers.4.src_src_att.output_layer.bias', 'encoder.layers.4.src_src_att.output_layer.weight', 'encoder.layers.4.src_src_att.q_layer.bias', 'encoder.layers.4.src_src_att.q_layer.weight', 'encoder.layers.4.src_src_att.v_layer.bias', 'encoder.layers.4.src_src_att.v_layer.weight', 'encoder.layers.5.feed_forward.layer_norm.bias', 'encoder.layers.5.feed_forward.layer_norm.weight', 'encoder.layers.5.feed_forward.pwff_layer.0.bias', 'encoder.layers.5.feed_forward.pwff_layer.0.weight', 'encoder.layers.5.feed_forward.pwff_layer.3.bias', 'encoder.layers.5.feed_forward.pwff_layer.3.weight', 'encoder.layers.5.layer_norm.bias', 'encoder.layers.5.layer_norm.weight', 'encoder.layers.5.src_src_att.k_layer.bias', 'encoder.layers.5.src_src_att.k_layer.weight', 'encoder.layers.5.src_src_att.output_layer.bias', 'encoder.layers.5.src_src_att.output_layer.weight', 'encoder.layers.5.src_src_att.q_layer.bias', 'encoder.layers.5.src_src_att.q_layer.weight', 'encoder.layers.5.src_src_att.v_layer.bias', 'encoder.layers.5.src_src_att.v_layer.weight', 'src_embed.lut.weight']\n",
      "2019-10-20 06:36:12,095 cfg.name                           : ents_transformer\n",
      "2019-10-20 06:36:12,095 cfg.data.src                       : en\n",
      "2019-10-20 06:36:12,095 cfg.data.trg                       : ts\n",
      "2019-10-20 06:36:12,095 cfg.data.train                     : data/ents/train.bpe\n",
      "2019-10-20 06:36:12,095 cfg.data.dev                       : data/ents/dev.bpe\n",
      "2019-10-20 06:36:12,095 cfg.data.test                      : data/ents/test.bpe\n",
      "2019-10-20 06:36:12,095 cfg.data.level                     : bpe\n",
      "2019-10-20 06:36:12,095 cfg.data.lowercase                 : False\n",
      "2019-10-20 06:36:12,095 cfg.data.max_sent_length           : 100\n",
      "2019-10-20 06:36:12,095 cfg.data.src_vocab                 : data/ents/vocab.txt\n",
      "2019-10-20 06:36:12,095 cfg.data.trg_vocab                 : data/ents/vocab.txt\n",
      "2019-10-20 06:36:12,095 cfg.testing.beam_size              : 5\n",
      "2019-10-20 06:36:12,095 cfg.testing.alpha                  : 1.0\n",
      "2019-10-20 06:36:12,095 cfg.training.random_seed           : 42\n",
      "2019-10-20 06:36:12,095 cfg.training.optimizer             : adam\n",
      "2019-10-20 06:36:12,095 cfg.training.normalization         : tokens\n",
      "2019-10-20 06:36:12,095 cfg.training.adam_betas            : [0.9, 0.999]\n",
      "2019-10-20 06:36:12,095 cfg.training.scheduling            : noam\n",
      "2019-10-20 06:36:12,095 cfg.training.learning_rate_factor  : 0.5\n",
      "2019-10-20 06:36:12,095 cfg.training.learning_rate_warmup  : 1000\n",
      "2019-10-20 06:36:12,095 cfg.training.patience              : 8\n",
      "2019-10-20 06:36:12,095 cfg.training.decrease_factor       : 0.7\n",
      "2019-10-20 06:36:12,095 cfg.training.loss                  : crossentropy\n",
      "2019-10-20 06:36:12,095 cfg.training.learning_rate         : 0.0002\n",
      "2019-10-20 06:36:12,095 cfg.training.learning_rate_min     : 1e-08\n",
      "2019-10-20 06:36:12,095 cfg.training.weight_decay          : 0.0\n",
      "2019-10-20 06:36:12,095 cfg.training.label_smoothing       : 0.1\n",
      "2019-10-20 06:36:12,095 cfg.training.batch_size            : 4096\n",
      "2019-10-20 06:36:12,095 cfg.training.batch_type            : token\n",
      "2019-10-20 06:36:12,095 cfg.training.eval_batch_size       : 3600\n",
      "2019-10-20 06:36:12,095 cfg.training.eval_batch_type       : token\n",
      "2019-10-20 06:36:12,095 cfg.training.batch_multiplier      : 1\n",
      "2019-10-20 06:36:12,096 cfg.training.early_stopping_metric : ppl\n",
      "2019-10-20 06:36:12,096 cfg.training.epochs                : 30\n",
      "2019-10-20 06:36:12,096 cfg.training.validation_freq       : 4000\n",
      "2019-10-20 06:36:12,096 cfg.training.logging_freq          : 100\n",
      "2019-10-20 06:36:12,096 cfg.training.eval_metric           : bleu\n",
      "2019-10-20 06:36:12,096 cfg.training.model_dir             : models/ents_transformer\n",
      "2019-10-20 06:36:12,096 cfg.training.overwrite             : True\n",
      "2019-10-20 06:36:12,096 cfg.training.shuffle               : True\n",
      "2019-10-20 06:36:12,096 cfg.training.use_cuda              : True\n",
      "2019-10-20 06:36:12,096 cfg.training.max_output_length     : 100\n",
      "2019-10-20 06:36:12,096 cfg.training.print_valid_sents     : [0, 1, 2, 3]\n",
      "2019-10-20 06:36:12,096 cfg.training.keep_last_ckpts       : 3\n",
      "2019-10-20 06:36:12,096 cfg.model.initializer              : xavier\n",
      "2019-10-20 06:36:12,096 cfg.model.bias_initializer         : zeros\n",
      "2019-10-20 06:36:12,096 cfg.model.init_gain                : 1.0\n",
      "2019-10-20 06:36:12,096 cfg.model.embed_initializer        : xavier\n",
      "2019-10-20 06:36:12,096 cfg.model.embed_init_gain          : 1.0\n",
      "2019-10-20 06:36:12,096 cfg.model.tied_embeddings          : True\n",
      "2019-10-20 06:36:12,096 cfg.model.tied_softmax             : True\n",
      "2019-10-20 06:36:12,096 cfg.model.encoder.type             : transformer\n",
      "2019-10-20 06:36:12,096 cfg.model.encoder.num_layers       : 6\n",
      "2019-10-20 06:36:12,096 cfg.model.encoder.num_heads        : 8\n",
      "2019-10-20 06:36:12,096 cfg.model.encoder.embeddings.embedding_dim : 512\n",
      "2019-10-20 06:36:12,096 cfg.model.encoder.embeddings.scale : True\n",
      "2019-10-20 06:36:12,096 cfg.model.encoder.embeddings.dropout : 0.0\n",
      "2019-10-20 06:36:12,096 cfg.model.encoder.hidden_size      : 512\n",
      "2019-10-20 06:36:12,096 cfg.model.encoder.ff_size          : 2048\n",
      "2019-10-20 06:36:12,096 cfg.model.encoder.dropout          : 0.3\n",
      "2019-10-20 06:36:12,096 cfg.model.decoder.type             : transformer\n",
      "2019-10-20 06:36:12,096 cfg.model.decoder.num_layers       : 6\n",
      "2019-10-20 06:36:12,096 cfg.model.decoder.num_heads        : 8\n",
      "2019-10-20 06:36:12,096 cfg.model.decoder.embeddings.embedding_dim : 512\n",
      "2019-10-20 06:36:12,096 cfg.model.decoder.embeddings.scale : True\n",
      "2019-10-20 06:36:12,096 cfg.model.decoder.embeddings.dropout : 0.0\n",
      "2019-10-20 06:36:12,096 cfg.model.decoder.hidden_size      : 512\n",
      "2019-10-20 06:36:12,096 cfg.model.decoder.ff_size          : 2048\n",
      "2019-10-20 06:36:12,096 cfg.model.decoder.dropout          : 0.3\n",
      "2019-10-20 06:36:12,097 Data set sizes: \n",
      "\ttrain 1543104,\n",
      "\tvalid 2000,\n",
      "\ttest 2000\n",
      "2019-10-20 06:36:12,097 First training example:\n",
      "\t[SRC] \"@@ do@@ w@@ sing ​ — scienti@@ fic or oc@@ cult ?\n",
      "\t[TRG] \"ku fe@@ mba — i sayense kumbe i vun@@ goma ?\n",
      "2019-10-20 06:36:12,097 First 10 words (src): (0) <unk> (1) <pad> (2) <s> (3) </s> (4) \" (5) . (6) , (7) a (8) ku (9) the\n",
      "2019-10-20 06:36:12,097 First 10 words (trg): (0) <unk> (1) <pad> (2) <s> (3) </s> (4) \" (5) . (6) , (7) a (8) ku (9) the\n",
      "2019-10-20 06:36:12,097 Number of Src words (types): 4357\n",
      "2019-10-20 06:36:12,097 Number of Trg words (types): 4357\n",
      "2019-10-20 06:36:12,097 Model(\n",
      "\tencoder=TransformerEncoder(num_layers=6, num_heads=8),\n",
      "\tdecoder=TransformerDecoder(num_layers=6, num_heads=8),\n",
      "\tsrc_embed=Embeddings(embedding_dim=512, vocab_size=4357),\n",
      "\ttrg_embed=Embeddings(embedding_dim=512, vocab_size=4357))\n",
      "2019-10-20 06:36:12,099 EPOCH 1\n",
      "2019-10-20 06:36:39,557 Epoch   1 Step:      100 Batch Loss:     1.244676 Tokens per Sec:     9182, Lr: 0.000070\n"
     ]
    }
   ],
   "source": [
    "! python -m joeynmt train configs/transformer_$src$tgt.yaml"
   ]
  },
  {
   "cell_type": "code",
   "execution_count": null,
   "metadata": {
    "colab": {},
    "colab_type": "code",
    "id": "MBoDS09JM807"
   },
   "outputs": [],
   "source": [
    "# Copy the created models from the notebook storage to google drive for persistant storage \n",
    "!cp -r joeynmt/models/${src}${tgt}_transformer/* \"$gdrive_path/models/${src}${tgt}_transformer/\""
   ]
  },
  {
   "cell_type": "code",
   "execution_count": null,
   "metadata": {
    "colab": {},
    "colab_type": "code",
    "id": "n94wlrCjVc17"
   },
   "outputs": [],
   "source": [
    "# Output our validation accuracy\n",
    "! cat \"$gdrive_path/models/${src}${tgt}_transformer/validations.txt\""
   ]
  },
  {
   "cell_type": "code",
   "execution_count": null,
   "metadata": {
    "colab": {},
    "colab_type": "code",
    "id": "66WhRE9lIhoD"
   },
   "outputs": [],
   "source": [
    "# Test our model\n",
    "! cd joeynmt; python3 -m joeynmt test \"$gdrive_path/models/${src}${tgt}_transformer/config.yaml\""
   ]
  },
  {
   "cell_type": "code",
   "execution_count": null,
   "metadata": {
    "colab": {},
    "colab_type": "code",
    "id": "ZiOHMDscCqC-"
   },
   "outputs": [],
   "source": []
  }
 ],
 "metadata": {
  "accelerator": "GPU",
  "colab": {
   "collapsed_sections": [],
   "name": "2019-10-14-masakhane-mt-african-languages-en-ts.ipynb",
   "provenance": [],
   "toc_visible": true
  },
  "kernelspec": {
   "display_name": "Python 3",
   "language": "python",
   "name": "python3"
  },
  "language_info": {
   "codemirror_mode": {
    "name": "ipython",
    "version": 3
   },
   "file_extension": ".py",
   "mimetype": "text/x-python",
   "name": "python",
   "nbconvert_exporter": "python",
   "pygments_lexer": "ipython3",
   "version": "3.7.4"
  }
 },
 "nbformat": 4,
 "nbformat_minor": 4
}
